{
 "cells": [
  {
   "cell_type": "markdown",
   "source": [
    "1. (1 point)\n",
    "Write a decorator which wraps functions to log function arguments and the return value on each call. Provide support for both positional and named arguments (your wrapper function should take both args and *kwargs and print them both).\n",
    "```\n",
    ">>> @logged\n",
    "... def func(*args):\n",
    "... return 3 + len(args)\n",
    ">>> func(4, 4, 4)\n",
    "you called func(4, 4, 4)\n",
    "it returned 6\n",
    "6 \n",
    "```"
   ],
   "metadata": {
    "collapsed": false,
    "pycharm": {
     "name": "#%% md\n"
    }
   }
  },
  {
   "cell_type": "code",
   "execution_count": null,
   "metadata": {
    "collapsed": true
   },
   "outputs": [],
   "source": [
    "def logged(func):\n",
    "\n",
    "    def wrapper(*args, **kwargs):\n",
    "        print('you called {.__name__}({}{}{})'.format(func,str(list(args))[1:-1], # cast to list is because tuple\n",
    "                                                             ', ' if kwargs else '',\n",
    "                                                             ', '.join('{}={}'.format(*pair) for pair in kwargs.items()),\n",
    "                                                              ))\n",
    "        val = func(*args, **kwargs)\n",
    "        print('it returned', val)\n",
    "        return val\n",
    "    \n",
    "    return wrapper"
   ]
  },
  {
   "cell_type": "markdown",
   "source": [
    "## 2. (1 point)\n",
    "\n",
    "Write a decorator to cache function invocation results. Store pairs arg:result in a dictionary in an\n",
    "attribute of the function object. The function being memoized is:\n",
    "\n",
    "```python\n",
    "def fibonacci(n):\n",
    "    assert n >= 0\n",
    "    \n",
    "    if n < 2:\n",
    "        return n\n",
    "    else:\n",
    "        return fibonacci(n-1) + fibonacci(n-2)\n",
    "```"
   ],
   "metadata": {
    "collapsed": false,
    "pycharm": {
     "name": "#%% md\n"
    }
   }
  },
  {
   "cell_type": "code",
   "execution_count": null,
   "outputs": [],
   "source": [
    "def memoize(func):\n",
    "    func.cache = {}\n",
    "    def wrapper(n):\n",
    "        if n not in func.cache:\n",
    "            func.cache[n] = func(n)\n",
    "        \n",
    "        return func.cache[n]\n",
    "    \n",
    "    return wrapper"
   ],
   "metadata": {
    "collapsed": false,
    "pycharm": {
     "name": "#%%\n"
    }
   }
  }
 ],
 "metadata": {
  "language_info": {
   "codemirror_mode": {
    "name": "ipython",
    "version": 2
   },
   "file_extension": ".py",
   "mimetype": "text/x-python",
   "name": "python",
   "nbconvert_exporter": "python",
   "pygments_lexer": "ipython2",
   "version": "2.7.6"
  },
  "kernelspec": {
   "name": "python3",
   "language": "python",
   "display_name": "Python 3"
  },
  "pycharm": {
   "stem_cell": {
    "cell_type": "raw",
    "source": [],
    "metadata": {
     "collapsed": false
    }
   }
  }
 },
 "nbformat": 4,
 "nbformat_minor": 0
}