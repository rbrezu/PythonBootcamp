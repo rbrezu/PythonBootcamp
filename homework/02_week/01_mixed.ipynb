{
 "cells": [
  {
   "cell_type": "markdown",
   "metadata": {},
   "source": [
    "# Files"
   ]
  },
  {
   "cell_type": "markdown",
   "metadata": {},
   "source": [
    "### 1. (1 point)\n",
    "\n",
    "List all files from a directory and move all `.txt`\n",
    "to a newly created folder named `copy`."
   ]
  },
  {
   "cell_type": "code",
   "execution_count": 5,
   "outputs": [],
   "source": [
    "import os\n",
    "\n",
    "def move_items(d):\n",
    "    files = os.listdir(d)\n",
    "    c_path = os.path.join(d, 'copy')\n",
    "    os.mkdir(c_path)\n",
    "    \n",
    "    for file in files:\n",
    "        if file.endswith('.txt'):\n",
    "            os.rename(file, os.path.join(c_path, file))\n",
    "\n",
    "# move_items('./')    "
   ],
   "metadata": {
    "collapsed": false,
    "pycharm": {
     "name": "#%%\n",
     "is_executing": false
    }
   }
  },
  {
   "cell_type": "markdown",
   "metadata": {},
   "source": [
    "### 2. (1 point)\n",
    "\n",
    "Read first n lines from a file. Don't actually read the whole file."
   ]
  },
  {
   "cell_type": "markdown",
   "metadata": {},
   "source": [
    "### 3. (1.5 point)\n",
    "\n",
    "Read last n lines from a file.\n",
    "\n",
    "`file.seek()` for moving file cursor and use a buffer to read."
   ]
  },
  {
   "cell_type": "code",
   "execution_count": 51,
   "outputs": [
    {
     "name": "stdout",
     "text": [
      "[b'a\\n', b'b\\n', b'c\\n', b'd\\n', b'e\\n', b'f\\n', b'g\\n', b'h\\n', b'i\\n']\n[b'e\\n', b'f\\n', b'g\\n', b'h\\n', b'i\\n']\n[b'i\\n']\n[b'a\\n', b'b\\n']\n[b'a\\n', b'b\\n', b'c\\n', b'd\\n', b'e\\n', b'f\\n', b'g\\n', b'h\\n', b'i\\n']\n[b'f\\n', b'g\\n', b'h\\n', b'i\\n']\n"
     ],
     "output_type": "stream"
    }
   ],
   "source": [
    "import io\n",
    "import itertools\n",
    "\n",
    "class File(io.FileIO):\n",
    "    def head(self, no_lines=1):\n",
    "        self.seek(0)                            # Rewind file\n",
    "        return list(itertools.islice(self, no_lines))\n",
    "\n",
    "    def tail(self, no_lines=1, buffsz=1024):  \n",
    "        self.seek(0, 2)                         # go to end of file\n",
    "        bytes_in_file = self.tell()             \n",
    "        lines_found, total_bytes_scanned = 0, 0\n",
    "        \n",
    "        while no_lines+1 > lines_found and \\\n",
    "               bytes_in_file > total_bytes_scanned: \n",
    "        \n",
    "            byte_block = min(buffsz, bytes_in_file - total_bytes_scanned)\n",
    "            self.seek(-(byte_block+total_bytes_scanned), 2)\n",
    "\n",
    "            total_bytes_scanned += byte_block\n",
    "            lines_found += self.read(buffsz).count(b'\\n')\n",
    "        \n",
    "        self.seek(-total_bytes_scanned, 2)\n",
    "        line_list = list(self.readlines())\n",
    "        print (line_list)\n",
    "        return line_list[-no_lines:]\n",
    "    \n",
    "f = File('./copy/test.txt', 'r')\n",
    "print (f.readlines())\n",
    "print (f.tail(1, 10))\n",
    "print (f.head(2))\n",
    "print (f.tail(4))\n"
   ],
   "metadata": {
    "collapsed": false,
    "pycharm": {
     "name": "#%%\n",
     "is_executing": false
    }
   }
  },
  {
   "cell_type": "markdown",
   "metadata": {},
   "source": [
    "### 4. (1.5 point)\n",
    "\n",
    "Print recursively all the sizes of the files the\n",
    "current directory and sum them up.\n",
    "\n",
    "`os.stat()` or `or.path.getsize()` to get size of a file\n",
    "\n",
    "Ex output:\n",
    "```\n",
    "F 01.ipynb                               -       6519 Bytes\n",
    "F test.txt                               -        116 Bytes\n",
    "D .ipynb_checkpoints                    \n",
    "F      01-checkpoint.ipynb               -       6627 Bytes\n",
    "Total: 13262\n",
    "```"
   ]
  },
  {
   "cell_type": "code",
   "execution_count": 52,
   "outputs": [
    {
     "name": "stdout",
     "text": [
      "F decorators.ipynb                       -       4448 Bytes\nF 01_mixed.ipynb                         -       9743 Bytes\nD copy                                  \nF      test.txt                          -         18 Bytes\nF 02_classes.ipynb                       -      14677 Bytes\nTotal: 29174\n"
     ],
     "output_type": "stream"
    }
   ],
   "source": [
    "import os\n",
    "\n",
    "def getFolderSize(folder, inner=1):\n",
    "    total_size = os.path.getsize(folder)\n",
    "    for item in os.listdir(folder):\n",
    "        itempath = os.path.join(folder, item)\n",
    "        if os.path.isfile(itempath):\n",
    "            sz = os.path.getsize(itempath)\n",
    "            print('{: <40} - {: 10} Bytes'.format('F' + ' ' * inner + item, sz))\n",
    "            \n",
    "        elif os.path.isdir(itempath):\n",
    "            print('{: <40}'.format('D' + ' ' * inner + item))\n",
    "            sz = getFolderSize(itempath, inner=inner + 5)\n",
    "            \n",
    "            \n",
    "        total_size += sz\n",
    "    return total_size\n",
    "\n",
    "print (\"Total: \" + str(getFolderSize(\".\")))"
   ],
   "metadata": {
    "collapsed": false,
    "pycharm": {
     "name": "#%%\n",
     "is_executing": false
    }
   }
  },
  {
   "cell_type": "markdown",
   "metadata": {},
   "source": [
    "# Datetime\n",
    "\n"
   ]
  },
  {
   "cell_type": "markdown",
   "metadata": {},
   "source": [
    "## 1. (1 point)\n",
    "\n",
    "Print a simple formatted calendar from a month and year\n",
    "given from user input.\n",
    "\n",
    "Print an asterisk near the 16-th and 21-th day.\n",
    "\n",
    "The calendar should start from Thursday.\n",
    "\n",
    "Look into `calendar` library\n",
    "\n",
    "Ex output:\n",
    "```\n",
    "      December 2011\n",
    "Thu Fri Sat Sun Mon Tue Wed\n",
    "  1   2   3   4   5   6   7\n",
    "  8   9  10  11  12  13  14\n",
    " 15 *16  17  18  19  20 *21\n",
    " 22  23  24  25  26  27  28\n",
    " 29  30  31\n",
    "```"
   ]
  },
  {
   "cell_type": "code",
   "execution_count": 53,
   "outputs": [
    {
     "name": "stdout",
     "text": [
      "       December 2011\nThu Fri Sat Sun Mon Tue Wed\n  1   2   3   4   5   6   7\n  8   9  10  11  12  13  14\n 15 *16  17  18  19  20 *21\n 22  23  24  25  26  27  28\n 29  30  31\n\n"
     ],
     "output_type": "stream"
    }
   ],
   "source": [
    "import calendar\n",
    "\n",
    "c = calendar.TextCalendar(calendar.THURSDAY)\n",
    "z = c.formatmonth(2011, 12, w=3)\n",
    "z = z.replace(' 16', '*16')\n",
    "z = z.replace(' 21', '*21')\n",
    "print (z)"
   ],
   "metadata": {
    "collapsed": false,
    "pycharm": {
     "name": "#%%\n",
     "is_executing": false
    }
   }
  },
  {
   "cell_type": "markdown",
   "metadata": {},
   "source": [
    "# Random"
   ]
  },
  {
   "cell_type": "markdown",
   "metadata": {},
   "source": [
    "### 1. (1 point)\n",
    "\n",
    "Generate a ten-character alphanumeric password with at least one lowercase character, at least one uppercase character, at least one digits and at least one special character.  \n",
    "\n",
    "`string` module has theese characters as lists. ex: `string.ascii_lowercase` has all ascii lowercase letters."
   ]
  },
  {
   "cell_type": "code",
   "execution_count": 100,
   "outputs": [
    {
     "data": {
      "text/plain": "'AN0bI&6K>&'"
     },
     "metadata": {},
     "output_type": "execute_result",
     "execution_count": 100
    }
   ],
   "source": [
    "import random\n",
    "import string\n",
    "\n",
    "def genPassword():\n",
    "\n",
    "    source = string.ascii_letters + string.digits + string.punctuation\n",
    "    password = random.choice(string.ascii_lowercase)\n",
    "    password += random.choice(string.ascii_uppercase)\n",
    "    password += random.choice(string.digits)\n",
    "    password += random.choice(string.punctuation)\n",
    "    for i in range(6):\n",
    "        password += random.choice(source)\n",
    "        \n",
    "    passwordList = list(password)\n",
    "    random.SystemRandom().shuffle(passwordList)\n",
    "    password = ''.join(passwordList)\n",
    "    \n",
    "    return password\n",
    "\n",
    "genPassword()"
   ],
   "metadata": {
    "collapsed": false,
    "pycharm": {
     "name": "#%%\n",
     "is_executing": false
    }
   }
  },
  {
   "cell_type": "markdown",
   "metadata": {},
   "source": [
    "# Decorators\n",
    "\n"
   ]
  },
  {
   "cell_type": "markdown",
   "metadata": {},
   "source": [
    "## 1. (1 point)\n",
    "\n",
    "Write a decorator which wraps functions to log function arguments and the return value on each call.\n",
    "Provide support for both positional and named arguments (your wrapper function should take both *args\n",
    "and **kwargs and print them both).\n",
    "\n",
    "```python\n",
    ">>> @logged\n",
    "... def func(*args):\n",
    "... return 3 + len(args)\n",
    ">>> func(4, 4, 4)\n",
    "you called func(4, 4, 4)\n",
    "it returned 6\n",
    "6\n",
    "```"
   ]
  },
  {
   "cell_type": "code",
   "execution_count": 57,
   "outputs": [
    {
     "name": "stdout",
     "text": [
      "you called func(2, 3, 4, 5, sd=2)\nit returned 7\n"
     ],
     "output_type": "stream"
    },
    {
     "data": {
      "text/plain": "7"
     },
     "metadata": {},
     "output_type": "execute_result",
     "execution_count": 57
    }
   ],
   "source": [
    "def logged(func):\n",
    "\n",
    "    def wrapper(*args, **kwargs):\n",
    "        print('you called {.__name__}({}{}{})'.format(func,\n",
    "                                     str(list(args))[1:-1], # cast to list is because tuple\n",
    "                                     ', ' if kwargs else '',\n",
    "                                     ', '.join('{}={}'.format(*pair) for pair in kwargs.items()),\n",
    "                                    ))\n",
    "        val = func(*args, **kwargs)\n",
    "        print('it returned', val)\n",
    "        return val\n",
    "    \n",
    "    return wrapper\n",
    "\n",
    "@logged\n",
    "def func(*args, **kwargs):\n",
    "    return 3 + len(args)\n",
    "\n",
    "func(2, 3, 4, 5, sd=2)"
   ],
   "metadata": {
    "collapsed": false,
    "pycharm": {
     "name": "#%%\n",
     "is_executing": false
    }
   }
  },
  {
   "cell_type": "markdown",
   "metadata": {},
   "source": [
    "## 2. (1 point)\n",
    "\n",
    "Write a decorator to cache function invocation results. Store pairs arg:result in a dictionary in an\n",
    "attribute of the function object. The function being memoized is:\n",
    "\n",
    "```python\n",
    "def fibonacci(n):\n",
    "    assert n >= 0\n",
    "    \n",
    "    if n < 2:\n",
    "        return n\n",
    "\n",
    "    return fibonacci(n-1) + fibonacci(n-2)\n",
    "```\n",
    "**ps**: think in which context you should define the cache"
   ]
  },
  {
   "cell_type": "code",
   "execution_count": 112,
   "outputs": [
    {
     "name": "stdout",
     "text": [
      "<function fibonacci at 0x10498dae8>\n<function fibonacci at 0x10498dae8>\n<function fibonacci at 0x10498dae8>\n<function fibonacci at 0x10498dae8>\n<function fibonacci at 0x10498dae8>\n<function fibonacci at 0x10498dae8>\n<function fibonacci at 0x10498dae8>\n<function fibonacci at 0x10498dae8>\n<function fibonacci at 0x10498dae8>\n<function fibonacci at 0x10498dae8>\n<function fibonacci at 0x10498dae8>\n<function fibonacci at 0x10498dae8>\n<function fibonacci at 0x10498dae8>\n<function fibonacci at 0x10498dae8>\n<function fibonacci at 0x10498dae8>\n<function fibonacci at 0x10498dae8>\n<function fibonacci at 0x10498dae8>\n<function fibonacci at 0x10498dae8>\n<function fibonacci at 0x10498dae8>\n<function fibonacci at 0x10498dae8>\n<function fibonacci at 0x10498dae8>\n<function fibonacci at 0x10498dae8>\n<function fibonacci at 0x10498dae8>\n"
     ],
     "output_type": "stream"
    },
    {
     "data": {
      "text/plain": "144"
     },
     "metadata": {},
     "output_type": "execute_result",
     "execution_count": 112
    }
   ],
   "source": [
    "def memoize(func):\n",
    "    func.cache = {}\n",
    "    def wrapper(n):\n",
    "        if n not in func.cache:\n",
    "            func.cache[n] = func(n)\n",
    "    \n",
    "        return func.cache[n]\n",
    "    \n",
    "    return wrapper\n",
    "\n",
    "@memoize\n",
    "def fibonacci(n):\n",
    "    assert n >= 0\n",
    "    \n",
    "    if n < 2:\n",
    "        return n\n",
    "\n",
    "    return fibonacci(n - 1) + fibonacci(n - 2)\n",
    "\n",
    "fibonacci(12)"
   ],
   "metadata": {
    "collapsed": false,
    "pycharm": {
     "name": "#%%\n",
     "is_executing": false
    }
   }
  },
  {
   "cell_type": "markdown",
   "source": [
    "# Regex"
   ],
   "metadata": {
    "collapsed": false
   }
  },
  {
   "cell_type": "markdown",
   "metadata": {},
   "source": [
    "Go trough all the exercises on [RegexOne](https://regexone.com/)"
   ]
  },
  {
   "cell_type": "markdown",
   "metadata": {},
   "source": [
    "### 1. Extract the user id, domain name and suffix from the following email addresses. (1 point)\n",
    "\n",
    "\n",
    "```\n",
    "emails = \"\"\"zuck26@facebook.com\n",
    "page33@google.com\n",
    "jeff42@amazon.com\"\"\"\n",
    "\n",
    "desired_output = [('zuck26', 'facebook', 'com'),\n",
    " ('page33', 'google', 'com'),\n",
    " ('jeff42', 'amazon', 'com')]\n",
    "```\n",
    "\n",
    "**hint** : `re.findall`"
   ]
  },
  {
   "cell_type": "code",
   "execution_count": 114,
   "metadata": {},
   "outputs": [
    {
     "data": {
      "text/plain": [
       "[('zuck26', 'facebook', 'com'),\n",
       " ('page33', 'google', 'com'),\n",
       " ('jeff42', 'amazon', 'com')]"
      ]
     },
     "execution_count": 114,
     "metadata": {},
     "output_type": "execute_result"
    }
   ],
   "source": [
    "import re\n",
    "\n",
    "emails = \"\"\"zuck26@facebook.com\n",
    "page33@google.com\n",
    "jeff42@amazon.com\"\"\"\n",
    "\n",
    "pattern = r'(\\w+)@([A-Z0-9]+)\\.([A-Z]{2,4})'\n",
    "re.findall(pattern, emails, flags=re.IGNORECASE)"
   ]
  },
  {
   "cell_type": "markdown",
   "metadata": {},
   "source": [
    "### 2. Split the following irregular sentence into words (1 point)\n",
    "```\n",
    "sentence = \"\"\"A, very   very; irregular_sentence\"\"\"\n",
    "desired_output = \"A very very irregular sentence\"\n",
    "```\n",
    "\n",
    "**hint**: `re.split`"
   ]
  },
  {
   "cell_type": "code",
   "execution_count": 62,
   "outputs": [
    {
     "data": {
      "text/plain": "'A very very irregular_sentence'"
     },
     "metadata": {},
     "output_type": "execute_result",
     "execution_count": 62
    }
   ],
   "source": [
    "import re\n",
    "\n",
    "sentence = \"\"\"A, very   very; irregular_sentence\"\"\"\n",
    "desired_output = \"A very very irregular sentence\"\n",
    "\n",
    "' '.join(filter(None, re.split(r'[;, ]', sentence)))"
   ],
   "metadata": {
    "collapsed": false,
    "pycharm": {
     "name": "#%%\n",
     "is_executing": false
    }
   }
  }
 ],
 "metadata": {
  "kernelspec": {
   "display_name": "Python 3",
   "language": "python",
   "name": "python3"
  },
  "language_info": {
   "codemirror_mode": {
    "name": "ipython",
    "version": 3
   },
   "file_extension": ".py",
   "mimetype": "text/x-python",
   "name": "python",
   "nbconvert_exporter": "python",
   "pygments_lexer": "ipython3",
   "version": "3.6.2"
  },
  "pycharm": {
   "stem_cell": {
    "cell_type": "raw",
    "source": [],
    "metadata": {
     "collapsed": false
    }
   }
  }
 },
 "nbformat": 4,
 "nbformat_minor": 2
}