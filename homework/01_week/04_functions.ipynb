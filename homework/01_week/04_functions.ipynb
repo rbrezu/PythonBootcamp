{
 "cells": [
  {
   "cell_type": "markdown",
   "metadata": {},
   "source": [
    "---\n",
    "### Part 1 (1 points)\n",
    "\n",
    "Create a function that checks if a number is perfect or not.\n",
    "\n",
    "According to Wikipedia : In number theory, a perfect number is a positive integer that is equal to the sum of its proper positive divisors, that is, the sum of its positive divisors excluding the number itself (also known as its aliquot sum). Equivalently, a perfect number is a number that is half the sum of all of its positive divisors (including itself).\n",
    "\n",
    "The first perfect number is 6, because 1, 2, and 3 are its proper positive divisors, and `1 + 2 + 3 = 6`"
   ]
  },
  {
   "cell_type": "code",
   "execution_count": 92,
   "metadata": {
    "nbgrader": {
     "grade": false,
     "grade_id": "cell-c61814b57c00d2a2",
     "locked": false,
     "schema_version": 1,
     "solution": true
    }
   },
   "outputs": [],
   "source": [
    "def perfect(n):\n",
    "    ### BEGIN SOLUTION\n",
    "    return sum([d for d in range(1, n // 2 + 1) if n % d == 0]) == n\n",
    "    ### END SOLUTION"
   ]
  },
  {
   "cell_type": "code",
   "execution_count": 93,
   "metadata": {
    "nbgrader": {
     "grade": true,
     "grade_id": "cell-3ab9384409fe521b",
     "locked": true,
     "points": 1,
     "schema_version": 1,
     "solution": false
    }
   },
   "outputs": [],
   "source": [
    "assert perfect(6) and perfect(28) and not perfect(12)"
   ]
  },
  {
   "cell_type": "markdown",
   "metadata": {},
   "source": [
    "---\n",
    "### Part 2 (1 points)\n",
    "\n",
    "Create a function that returns a function that appends a given string to the end and front of a string.\n",
    "\n",
    "ex:\n",
    "```\n",
    "bold = appender('<bold>')\n",
    "bold('hi') -> <bold>hi<bold>\n",
    "```"
   ]
  },
  {
   "cell_type": "code",
   "execution_count": 46,
   "metadata": {
    "nbgrader": {
     "grade": false,
     "grade_id": "cell-25e1f113f186d8ce",
     "locked": false,
     "schema_version": 1,
     "solution": true
    }
   },
   "outputs": [],
   "source": [
    "def appender(st):\n",
    "    ### BEGIN SOLUTION\n",
    "    return lambda ostr: st + ostr + st\n",
    "    ### END SOLUTION"
   ]
  },
  {
   "cell_type": "code",
   "execution_count": 47,
   "metadata": {
    "nbgrader": {
     "grade": true,
     "grade_id": "cell-8593888991e19abc",
     "locked": true,
     "points": 1,
     "schema_version": 1,
     "solution": false
    }
   },
   "outputs": [],
   "source": [
    "bold = appender('<bold>')\n",
    "assert bold('hi') == '<bold>hi<bold>'\n",
    "\n",
    "bold = appender(' *** ')\n",
    "assert bold('title') == ' *** title *** '"
   ]
  },
  {
   "cell_type": "markdown",
   "metadata": {},
   "source": [
    "---\n",
    "### Part 3 (1 points)\n",
    "\n",
    "Create a function that sums all list args and multiplies all dictionary args and returns a tuple\n",
    "\n",
    "ex:\n",
    "```\n",
    "bold = appender('<bold>')\n",
    "bold('hi') -> <bold>hi<bold>\n",
    "```"
   ]
  },
  {
   "cell_type": "code",
   "execution_count": 64,
   "metadata": {
    "nbgrader": {
     "grade": false,
     "grade_id": "cell-35c532cb23f073b1",
     "locked": false,
     "schema_version": 1,
     "solution": true
    }
   },
   "outputs": [],
   "source": [
    "# Write the function definition -> def args_adder(...)\n",
    "### BEGIN SOLUTION\n",
    "def args_adder(*args, **kwargs): \n",
    "    s = sum(args)\n",
    "    p = 1\n",
    "    for i in kwargs.values():\n",
    "        p *= i\n",
    "    \n",
    "    return s, p\n",
    "### END SOLUTION"
   ]
  },
  {
   "cell_type": "code",
   "execution_count": 65,
   "metadata": {
    "nbgrader": {
     "grade": true,
     "grade_id": "cell-f6855dd7b4d17dc8",
     "locked": true,
     "points": 1,
     "schema_version": 1,
     "solution": false
    }
   },
   "outputs": [],
   "source": [
    "assert args_adder(*range(0, 11), asd=1, bce=2, cdf=3) == (55, 6)\n",
    "assert args_adder(asd=1, bce=2, cdf=3) == (0, 6)"
   ]
  },
  {
   "cell_type": "markdown",
   "metadata": {},
   "source": [
    "---\n",
    "### Part 4 (1 points)\n",
    "\n",
    "Write this simple division function and handle all possible exceptions.  \n",
    "Return a string representing the exception if an exception occurs.\n",
    "```\n",
    "zero division -> one item is zero\n",
    "bad type -> invalid type\n",
    "```"
   ]
  },
  {
   "cell_type": "code",
   "execution_count": 90,
   "metadata": {
    "nbgrader": {
     "grade": false,
     "grade_id": "cell-4673f51220303cdf",
     "locked": false,
     "schema_version": 1,
     "solution": true
    }
   },
   "outputs": [],
   "source": [
    "def simple_div(x, y):\n",
    "    result = None # x / y\n",
    "    ### BEGIN SOLUTION\n",
    "    try:\n",
    "        result = x / y\n",
    "    except ZeroDivisionError as e:\n",
    "        return 'one item is zero'\n",
    "    except TypeError as e:\n",
    "        return 'invalid type'\n",
    "    ### END SOLUTION\n",
    "    return result"
   ]
  },
  {
   "cell_type": "code",
   "execution_count": 91,
   "metadata": {
    "nbgrader": {
     "grade": true,
     "grade_id": "cell-677478a0e8835be3",
     "locked": true,
     "points": 1,
     "schema_version": 1,
     "solution": false
    }
   },
   "outputs": [],
   "source": [
    "assert simple_div(1, 3) == 1 / 3\n",
    "assert simple_div(1, 0) == 'one item is zero'\n",
    "assert simple_div('asd', 0) == 'invalid type'"
   ]
  },
  {
   "cell_type": "markdown",
   "metadata": {},
   "source": [
    "---\n",
    "### Part 5 (1 points)\n",
    "\n",
    "From a lists of inner lists of unknown depth flatten to a single list.\n",
    "\n",
    "```\n",
    "in: [[3, [1, 2], [[[6], 5], 4, 0], 7, [[8]], [9, 10]]]\n",
    "out: [3, 1, 2, 6, 5, 4, 0, 7, 8, 9, 10]\n",
    "```"
   ]
  },
  {
   "cell_type": "code",
   "execution_count": 12,
   "metadata": {
    "nbgrader": {
     "grade": false,
     "grade_id": "cell-ffd9101c90ff63a0",
     "locked": false,
     "schema_version": 1,
     "solution": true
    }
   },
   "outputs": [
    {
     "data": {
      "text/plain": [
       "[3, 1, 2, 6, 5, 4, 0, 7, 8, 9, 10]"
      ]
     },
     "execution_count": 12,
     "metadata": {},
     "output_type": "execute_result"
    }
   ],
   "source": [
    "def flatten(l1):\n",
    "    ### BEGIN SOLUTION\n",
    "#    l = []\n",
    "#     for item in l1:\n",
    "#         if type(item) == list:\n",
    "#             l.extend(flatten(item))\n",
    "#         else:\n",
    "#             l.append(item)\n",
    "    f = lambda xy: flatten(xy) if type(xy) == list else [xy]\n",
    "    return [i for item in l1 for i in f(item)]\n",
    "    ### END SOLUTION\n",
    "    \n",
    "flatten([[3, [1, 2], [[[6], 5], 4, 0], 7, [[8]], [9, 10]]])"
   ]
  },
  {
   "cell_type": "code",
   "execution_count": 122,
   "metadata": {
    "nbgrader": {
     "grade": true,
     "grade_id": "cell-666621f38ef428a5",
     "locked": true,
     "points": 1,
     "schema_version": 1,
     "solution": false
    }
   },
   "outputs": [],
   "source": [
    "assert flatten([[3, [1, 2], [[[6], 5], 4, 0], 7, [[8]], [9, 10]]]) == [3, 1, 2, 6, 5, 4, 0, 7, 8, 9, 10]\n",
    "assert flatten([[], [], [], 1]) == [1]"
   ]
  },
  {
   "cell_type": "markdown",
   "metadata": {},
   "source": [
    "---\n",
    "## Part 6 (1.5 points)\n",
    "\n",
    "Return the n-th fibonnaci number\n",
    "```\n",
    "idx: 1, 2, 3, 4, 5, 6\n",
    "fib: 1, 1, 2, 3, 5, 8...\n",
    "```"
   ]
  },
  {
   "cell_type": "code",
   "execution_count": 13,
   "metadata": {
    "nbgrader": {
     "grade": false,
     "grade_id": "cell-68100df7fb21de0b",
     "locked": false,
     "schema_version": 1,
     "solution": true
    }
   },
   "outputs": [],
   "source": [
    "def fib(n):\n",
    "    ### BEGIN SOLUTION\n",
    "    x, y = (1, 1)\n",
    "        \n",
    "    while n > 2:\n",
    "        x, y = y, x + y\n",
    "        n -= 1\n",
    "\n",
    "    return y\n",
    "    ### END SOLUTION"
   ]
  },
  {
   "cell_type": "code",
   "execution_count": 14,
   "metadata": {
    "nbgrader": {
     "grade": true,
     "grade_id": "cell-b46d7eee878c29e2",
     "locked": true,
     "points": 1.5,
     "schema_version": 1,
     "solution": false
    }
   },
   "outputs": [],
   "source": [
    "assert fib(1) == 1 and fib(2) == 1 and fib(12) == 144\n",
    "'''If the second assert fails think about why :D'''\n",
    "assert fib(72) == 498454011879264"
   ]
  }
 ],
 "metadata": {
  "celltoolbar": "Create Assignment",
  "kernelspec": {
   "display_name": "Python 3",
   "language": "python",
   "name": "python3"
  },
  "language_info": {
   "codemirror_mode": {
    "name": "ipython",
    "version": 3
   },
   "file_extension": ".py",
   "mimetype": "text/x-python",
   "name": "python",
   "nbconvert_exporter": "python",
   "pygments_lexer": "ipython3",
   "version": "3.6.2"
  }
 },
 "nbformat": 4,
 "nbformat_minor": 2
}
