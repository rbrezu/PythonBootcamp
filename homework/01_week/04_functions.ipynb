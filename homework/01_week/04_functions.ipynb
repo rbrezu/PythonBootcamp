{
 "cells": [
  {
   "cell_type": "markdown",
   "metadata": {},
   "source": [
    "Before you turn this problem in, make sure everything runs as expected. First, **restart the kernel** (in the menubar, select Kernel$\\rightarrow$Restart) and then **run all cells** (in the menubar, select Cell$\\rightarrow$Run All).\n",
    "\n",
    "Make sure you fill in any place that says `YOUR CODE HERE` or \"YOUR ANSWER HERE\", as well as your name and collaborators below:"
   ]
  },
  {
   "cell_type": "code",
   "execution_count": null,
   "metadata": {},
   "outputs": [],
   "source": [
    "NAME = \"\"\n",
    "COLLABORATORS = \"\""
   ]
  },
  {
   "cell_type": "markdown",
   "metadata": {},
   "source": [
    "---"
   ]
  },
  {
   "cell_type": "markdown",
   "metadata": {},
   "source": [
    "---\n",
    "### Part 1 (1 points)\n",
    "\n",
    "Create a function that checks if a number is perfect or not.\n",
    "\n",
    "According to Wikipedia : In number theory, a perfect number is a positive integer that is equal to the sum of its proper positive divisors, that is, the sum of its positive divisors excluding the number itself (also known as its aliquot sum). Equivalently, a perfect number is a number that is half the sum of all of its positive divisors (including itself).\n",
    "\n",
    "The first perfect number is 6, because 1, 2, and 3 are its proper positive divisors, and `1 + 2 + 3 = 6`"
   ]
  },
  {
   "cell_type": "code",
   "execution_count": null,
   "metadata": {
    "deletable": false,
    "nbgrader": {
     "checksum": "44ed8436e8f2ae09cce0e4624e20c85c",
     "grade": false,
     "grade_id": "cell-c61814b57c00d2a2",
     "locked": false,
     "schema_version": 1,
     "solution": true
    }
   },
   "outputs": [],
   "source": [
    "def perfect(n):\n",
    "    # YOUR CODE HERE\n",
    "    raise NotImplementedError()"
   ]
  },
  {
   "cell_type": "code",
   "execution_count": null,
   "metadata": {
    "deletable": false,
    "editable": false,
    "nbgrader": {
     "checksum": "38c18e448c2087870a2edc247f18a755",
     "grade": true,
     "grade_id": "cell-3ab9384409fe521b",
     "locked": true,
     "points": 1,
     "schema_version": 1,
     "solution": false
    }
   },
   "outputs": [],
   "source": [
    "assert perfect(6) and perfect(28) and not perfect(12)"
   ]
  },
  {
   "cell_type": "markdown",
   "metadata": {},
   "source": [
    "---\n",
    "### Part 2 (1 points)\n",
    "\n",
    "Create a function that returns a function that appends a given string to the end and front of a string.\n",
    "\n",
    "ex:\n",
    "```\n",
    "bold = appender('<bold>')\n",
    "bold('hi') -> <bold>hi<bold>\n",
    "```"
   ]
  },
  {
   "cell_type": "code",
   "execution_count": null,
   "metadata": {
    "deletable": false,
    "nbgrader": {
     "checksum": "e14e0867e02caf751d9eb4b93736fc74",
     "grade": false,
     "grade_id": "cell-25e1f113f186d8ce",
     "locked": false,
     "schema_version": 1,
     "solution": true
    }
   },
   "outputs": [],
   "source": [
    "def appender(st):\n",
    "    # YOUR CODE HERE\n",
    "    raise NotImplementedError()"
   ]
  },
  {
   "cell_type": "code",
   "execution_count": null,
   "metadata": {
    "deletable": false,
    "editable": false,
    "nbgrader": {
     "checksum": "269c3f9bb40bacf416a3d959512af77d",
     "grade": true,
     "grade_id": "cell-8593888991e19abc",
     "locked": true,
     "points": 1,
     "schema_version": 1,
     "solution": false
    }
   },
   "outputs": [],
   "source": [
    "bold = appender('<bold>')\n",
    "assert bold('hi') == '<bold>hi<bold>'\n",
    "\n",
    "bold = appender(' *** ')\n",
    "assert bold('title') == ' *** title *** '"
   ]
  },
  {
   "cell_type": "markdown",
   "metadata": {},
   "source": [
    "---\n",
    "### Part 3 (1 points)\n",
    "\n",
    "Create a function that sums all list args and multiplies all dictionary args and returns a tuple\n",
    "\n",
    "ex:\n",
    "```\n",
    "bold = appender('<bold>')\n",
    "bold('hi') -> <bold>hi<bold>\n",
    "```"
   ]
  },
  {
   "cell_type": "code",
   "execution_count": null,
   "metadata": {
    "deletable": false,
    "nbgrader": {
     "checksum": "8d4894ea6ace7f2259a6618c0a025817",
     "grade": false,
     "grade_id": "cell-35c532cb23f073b1",
     "locked": false,
     "schema_version": 1,
     "solution": true
    }
   },
   "outputs": [],
   "source": [
    "# Write the function definition -> def args_adder(...)\n",
    "# YOUR CODE HERE\n",
    "raise NotImplementedError()"
   ]
  },
  {
   "cell_type": "code",
   "execution_count": null,
   "metadata": {
    "deletable": false,
    "editable": false,
    "nbgrader": {
     "checksum": "c21865af136fca296dc2f63055028713",
     "grade": true,
     "grade_id": "cell-f6855dd7b4d17dc8",
     "locked": true,
     "points": 1,
     "schema_version": 1,
     "solution": false
    }
   },
   "outputs": [],
   "source": [
    "assert args_adder(*range(0, 11), asd=1, bce=2, cdf=3) == (55, 6)\n",
    "assert args_adder(asd=1, bce=2, cdf=3) == (0, 6)"
   ]
  },
  {
   "cell_type": "markdown",
   "metadata": {},
   "source": [
    "---\n",
    "### Part 4 (1 points)\n",
    "\n",
    "Write this simple division function and handle all possible exceptions.  \n",
    "Return a string representing the exception if an exception occurs.\n",
    "```\n",
    "zero division -> one item is zero\n",
    "bad type -> invalid type\n",
    "```"
   ]
  },
  {
   "cell_type": "code",
   "execution_count": null,
   "metadata": {
    "deletable": false,
    "nbgrader": {
     "checksum": "8dbb50bde9c6f42496b24cdbe697019b",
     "grade": false,
     "grade_id": "cell-4673f51220303cdf",
     "locked": false,
     "schema_version": 1,
     "solution": true
    }
   },
   "outputs": [],
   "source": [
    "def simple_div(x, y):\n",
    "    result = None # x / y\n",
    "    # YOUR CODE HERE\n",
    "    raise NotImplementedError()\n",
    "    return result"
   ]
  },
  {
   "cell_type": "code",
   "execution_count": null,
   "metadata": {
    "deletable": false,
    "editable": false,
    "nbgrader": {
     "checksum": "998e888f12599ca01d4c590ea3116bd4",
     "grade": true,
     "grade_id": "cell-677478a0e8835be3",
     "locked": true,
     "points": 1,
     "schema_version": 1,
     "solution": false
    }
   },
   "outputs": [],
   "source": [
    "assert simple_div(1, 3) == 1 / 3\n",
    "assert simple_div(1, 0) == 'one item is zero'\n",
    "assert simple_div('asd', 0) == 'invalid type'"
   ]
  },
  {
   "cell_type": "markdown",
   "metadata": {},
   "source": [
    "---\n",
    "### Part 5 (1 points)\n",
    "\n",
    "From a lists of inner lists of unknown depth flatten to a single list.\n",
    "\n",
    "```\n",
    "in: [[3, [1, 2], [[[6], 5], 4, 0], 7, [[8]], [9, 10]]]\n",
    "out: [3, 1, 2, 6, 5, 4, 0, 7, 8, 9, 10]\n",
    "```"
   ]
  },
  {
   "cell_type": "code",
   "execution_count": null,
   "metadata": {
    "deletable": false,
    "nbgrader": {
     "checksum": "25081d611abb2d040820a10836cea6ec",
     "grade": false,
     "grade_id": "cell-ffd9101c90ff63a0",
     "locked": false,
     "schema_version": 1,
     "solution": true
    }
   },
   "outputs": [],
   "source": [
    "def flatten(l1):\n",
    "    # YOUR CODE HERE\n",
    "    raise NotImplementedError()"
   ]
  },
  {
   "cell_type": "code",
   "execution_count": null,
   "metadata": {
    "deletable": false,
    "editable": false,
    "nbgrader": {
     "checksum": "62454722fd5be4857f6289a8a0f3c3c8",
     "grade": true,
     "grade_id": "cell-666621f38ef428a5",
     "locked": true,
     "points": 1,
     "schema_version": 1,
     "solution": false
    }
   },
   "outputs": [],
   "source": [
    "assert flatten([[3, [1, 2], [[[6], 5], 4, 0], 7, [[8]], [9, 10]]]) == [3, 1, 2, 6, 5, 4, 0, 7, 8, 9, 10]\n",
    "assert flatten([[], [], [], 1]) == [1]"
   ]
  },
  {
   "cell_type": "markdown",
   "metadata": {},
   "source": [
    "---\n",
    "## Part 6 (1.5 points)\n",
    "\n",
    "Return the n-th fibonnaci number\n",
    "```\n",
    "idx: 1, 2, 3, 4, 5, 6\n",
    "fib: 1, 1, 2, 3, 5, 8...\n",
    "```"
   ]
  },
  {
   "cell_type": "code",
   "execution_count": null,
   "metadata": {
    "deletable": false,
    "nbgrader": {
     "checksum": "bc9bfebe062b62e64edca810c58610f8",
     "grade": false,
     "grade_id": "cell-68100df7fb21de0b",
     "locked": false,
     "schema_version": 1,
     "solution": true
    }
   },
   "outputs": [],
   "source": [
    "def fib(n):\n",
    "    # YOUR CODE HERE\n",
    "    raise NotImplementedError()"
   ]
  },
  {
   "cell_type": "code",
   "execution_count": null,
   "metadata": {
    "deletable": false,
    "editable": false,
    "nbgrader": {
     "checksum": "f0376d39721690b8c43ef4934f6169a9",
     "grade": true,
     "grade_id": "cell-b46d7eee878c29e2",
     "locked": true,
     "points": 1.5,
     "schema_version": 1,
     "solution": false
    }
   },
   "outputs": [],
   "source": [
    "assert fib(1) == 1 and fib(2) == 1 and fib(12) == 144\n",
    "'''If the second assert fails think about why :D'''\n",
    "assert fib(72) == 498454011879264"
   ]
  }
 ],
 "metadata": {
  "kernelspec": {
   "display_name": "Python 3",
   "language": "python",
   "name": "python3"
  },
  "language_info": {
   "codemirror_mode": {
    "name": "ipython",
    "version": 3
   },
   "file_extension": ".py",
   "mimetype": "text/x-python",
   "name": "python",
   "nbconvert_exporter": "python",
   "pygments_lexer": "ipython3",
   "version": "3.6.2"
  }
 },
 "nbformat": 4,
 "nbformat_minor": 2
}
