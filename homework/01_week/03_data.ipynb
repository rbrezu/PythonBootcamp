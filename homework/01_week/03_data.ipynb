{
 "cells": [
  {
   "cell_type": "markdown",
   "metadata": {},
   "source": [
    "Before you turn this problem in, make sure everything runs as expected. First, **restart the kernel** (in the menubar, select Kernel$\\rightarrow$Restart) and then **run all cells** (in the menubar, select Cell$\\rightarrow$Run All).\n",
    "\n",
    "Make sure you fill in any place that says `YOUR CODE HERE` or \"YOUR ANSWER HERE\", as well as your name and collaborators below:"
   ]
  },
  {
   "cell_type": "code",
   "execution_count": null,
   "metadata": {},
   "outputs": [],
   "source": [
    "NAME = \"\"\n",
    "COLLABORATORS = \"\""
   ]
  },
  {
   "cell_type": "markdown",
   "metadata": {},
   "source": [
    "---"
   ]
  },
  {
   "cell_type": "markdown",
   "metadata": {},
   "source": [
    "---\n",
    "## Part 1 (1 points)\n",
    "Return a tuple containing the sum, mean average and length of a list given as input."
   ]
  },
  {
   "cell_type": "code",
   "execution_count": null,
   "metadata": {
    "deletable": false,
    "nbgrader": {
     "checksum": "9341c6de6cf08db3981e5bf96a432ec3",
     "grade": false,
     "grade_id": "cell-1dd9ebecc6447752",
     "locked": false,
     "schema_version": 1,
     "solution": true
    }
   },
   "outputs": [],
   "source": [
    "# YOUR CODE HERE\n",
    "raise NotImplementedError()"
   ]
  },
  {
   "cell_type": "code",
   "execution_count": null,
   "metadata": {
    "deletable": false,
    "editable": false,
    "nbgrader": {
     "checksum": "a1dc58f164da43af136f1ef6fb42a138",
     "grade": true,
     "grade_id": "cell-9486a334677c53f5",
     "locked": true,
     "points": 1,
     "schema_version": 1,
     "solution": false
    }
   },
   "outputs": [],
   "source": [
    "assert average([1, 2, 3]) == (6, 2.0, 3)"
   ]
  },
  {
   "cell_type": "markdown",
   "metadata": {},
   "source": [
    "---\n",
    "## Part 2 (1 points)\n",
    "Create a third list from l1 and l2 that contains the even indexed elements from the first appended to the odd indexed elements from the second"
   ]
  },
  {
   "cell_type": "code",
   "execution_count": null,
   "metadata": {
    "deletable": false,
    "nbgrader": {
     "checksum": "c89612dd64045152d31f0dbb7a2c2994",
     "grade": false,
     "grade_id": "cell-75325ad0d6cc3321",
     "locked": false,
     "schema_version": 1,
     "solution": true
    }
   },
   "outputs": [],
   "source": [
    "# YOUR CODE HERE\n",
    "raise NotImplementedError()"
   ]
  },
  {
   "cell_type": "code",
   "execution_count": null,
   "metadata": {
    "deletable": false,
    "editable": false,
    "nbgrader": {
     "checksum": "8a0c22f9e2dee6f8d4c7fb0c882fdf4e",
     "grade": true,
     "grade_id": "cell-cf373b20f2e2dc1d",
     "locked": true,
     "points": 1,
     "schema_version": 1,
     "solution": false
    }
   },
   "outputs": [],
   "source": [
    "assert l1_add_l2([1, 2, 3, 4, 5],[1, 2, 3, 4, 5]) == [1, 3, 5, 2, 4]"
   ]
  },
  {
   "cell_type": "markdown",
   "metadata": {},
   "source": [
    "---\n",
    "## Part 3 (1 points)\n",
    "Remove an element at position i and put it at position j."
   ]
  },
  {
   "cell_type": "code",
   "execution_count": null,
   "metadata": {
    "deletable": false,
    "nbgrader": {
     "checksum": "99408ccc4f26d84e2994a3241017b861",
     "grade": false,
     "grade_id": "cell-ffc58f4512d2d0d5",
     "locked": false,
     "schema_version": 1,
     "solution": true
    }
   },
   "outputs": [],
   "source": [
    "# YOUR CODE HERE\n",
    "raise NotImplementedError()"
   ]
  },
  {
   "cell_type": "code",
   "execution_count": null,
   "metadata": {
    "deletable": false,
    "editable": false,
    "nbgrader": {
     "checksum": "2382fac129210fcf1add4affa4488f0a",
     "grade": true,
     "grade_id": "cell-2ffa9f0053765139",
     "locked": true,
     "points": 1,
     "schema_version": 1,
     "solution": false
    }
   },
   "outputs": [],
   "source": [
    "assert pop_and_add([1, 2, 3], 2, 0) == [3, 1, 2]\n",
    "assert pop_and_add([1, 2, 3, 4, 5], 1, 4) == [1, 3, 4, 5, 2]"
   ]
  },
  {
   "cell_type": "markdown",
   "metadata": {},
   "source": [
    "---\n",
    "## Part 4 (1 points)\n",
    "Given two sets s1 and s2, return a set containing elements from s1 or s2 but not both"
   ]
  },
  {
   "cell_type": "code",
   "execution_count": null,
   "metadata": {
    "deletable": false,
    "nbgrader": {
     "checksum": "20de6d9cdf79ea740bbdaab961642cd9",
     "grade": false,
     "grade_id": "cell-5b3ceb6ea2878f2d",
     "locked": false,
     "schema_version": 1,
     "solution": true
    }
   },
   "outputs": [],
   "source": [
    "def set_ops(s1, s2):\n",
    "    # YOUR CODE HERE\n",
    "    raise NotImplementedError()"
   ]
  },
  {
   "cell_type": "code",
   "execution_count": null,
   "metadata": {
    "deletable": false,
    "editable": false,
    "nbgrader": {
     "checksum": "66fb1b3c71266a8ddd37e3297b38352a",
     "grade": true,
     "grade_id": "cell-fdbb5305e43cbfdb",
     "locked": true,
     "points": 1,
     "schema_version": 1,
     "solution": false
    }
   },
   "outputs": [],
   "source": [
    "assert set_ops({1,2,3}, {2,3,4}) == {1,4}"
   ]
  },
  {
   "cell_type": "markdown",
   "metadata": {},
   "source": [
    "---\n",
    "## Part 5 (1.5 points)\n",
    "Given a list l1, slice it into equally sized n chunks.\n",
    "(The length of the list is always divisible by n)"
   ]
  },
  {
   "cell_type": "code",
   "execution_count": null,
   "metadata": {
    "deletable": false,
    "nbgrader": {
     "checksum": "36292db7a6d40c32fe2b616c3b550f12",
     "grade": false,
     "grade_id": "cell-0049e43676eff8d0",
     "locked": false,
     "schema_version": 1,
     "solution": true
    }
   },
   "outputs": [],
   "source": [
    "def nslice(l1, n):\n",
    "    # YOUR CODE HERE\n",
    "    raise NotImplementedError()"
   ]
  },
  {
   "cell_type": "code",
   "execution_count": null,
   "metadata": {
    "deletable": false,
    "editable": false,
    "nbgrader": {
     "checksum": "8a78c9ca8cb2f5c3c9b1634f8574c127",
     "grade": true,
     "grade_id": "cell-6de93cb32b4e080b",
     "locked": true,
     "points": 1.5,
     "schema_version": 1,
     "solution": false
    }
   },
   "outputs": [],
   "source": [
    "assert nslice([1, 2, 3, 4, 5, 6], 3) == [[1, 2], [3, 4], [5, 6]]\n",
    "assert nslice([1, 2, 3], 3) == [[1], [2], [3]]"
   ]
  },
  {
   "cell_type": "markdown",
   "metadata": {},
   "source": [
    "---\n",
    "## Part 6 (1.5 points)\n",
    "Given multiple lists as arguments create a function that returns the cartesian product.\n",
    "ex:\n",
    "```\n",
    "in: [1, 0], [2, 3]\n",
    "out: [[1, 2], [1, 3], [0, 2], [0, 3]]\n",
    "```\n"
   ]
  },
  {
   "cell_type": "code",
   "execution_count": null,
   "metadata": {
    "deletable": false,
    "nbgrader": {
     "checksum": "64c2eca2efe9219dd835232594b90285",
     "grade": false,
     "grade_id": "cell-8a122ea79bb7e70a",
     "locked": false,
     "schema_version": 1,
     "solution": true
    }
   },
   "outputs": [],
   "source": [
    "def cart_prod(*lists):\n",
    "    # YOUR CODE HERE\n",
    "    raise NotImplementedError()"
   ]
  },
  {
   "cell_type": "code",
   "execution_count": null,
   "metadata": {
    "deletable": false,
    "editable": false,
    "nbgrader": {
     "checksum": "a558bfec2b1ebdac61f90bc134f1b153",
     "grade": true,
     "grade_id": "cell-49c72a78beb51f34",
     "locked": true,
     "points": 1.5,
     "schema_version": 1,
     "solution": false
    }
   },
   "outputs": [],
   "source": [
    "assert cart_prod([1, 0], [2, 3]) == [[1, 2], [1, 3], [0, 2], [0, 3]]\n",
    "assert cart_prod([1, 0], [2, 3], [4, 5]) == [[1, 2, 4], [1, 2, 5], [1, 3, 4], [1, 3, 5], \n",
    "                                             [0, 2, 4], [0, 2, 5], [0, 3, 4], [0, 3, 5]]"
   ]
  },
  {
   "cell_type": "markdown",
   "metadata": {},
   "source": [
    "---\n",
    "## Part 7 (1.5 points)\n",
    "Create all possible combinations of letters given a dictionary which values are characters.  \n",
    "**HINT**: use something implemented before  \n",
    "\n",
    "ex:\n",
    "```\n",
    "in: {1 : ['a','b'], 2 : ['c','d']}\n",
    "out: ['ac', 'ad', 'bc', 'cd']\n",
    "```"
   ]
  },
  {
   "cell_type": "code",
   "execution_count": null,
   "metadata": {
    "deletable": false,
    "nbgrader": {
     "checksum": "74a4391052bc03b3030a10ba59dba6f1",
     "grade": false,
     "grade_id": "cell-55b26f0accdb7d23",
     "locked": false,
     "schema_version": 1,
     "solution": true
    }
   },
   "outputs": [],
   "source": [
    "def all_chars(d1):\n",
    "    # YOUR CODE HERE\n",
    "    raise NotImplementedError()"
   ]
  },
  {
   "cell_type": "code",
   "execution_count": null,
   "metadata": {
    "deletable": false,
    "editable": false,
    "nbgrader": {
     "checksum": "76424aadd7d3574e7314b3dabf0a490e",
     "grade": true,
     "grade_id": "cell-484620fc342d2353",
     "locked": true,
     "points": 1.5,
     "schema_version": 1,
     "solution": false
    }
   },
   "outputs": [],
   "source": [
    "in0 = {1 : ['a','b'], 2 : ['c','d']}\n",
    "out0 = ['ac', 'ad', 'bc', 'bd']\n",
    "assert sorted(all_chars(in0)) == out0\n",
    "\n",
    "in1 = {1 : ['a','b'], 2 : ['c','d'], 3 : ['e']}\n",
    "out1 = ['ace', 'ade', 'bce', 'bde']\n",
    "assert sorted(all_chars(in1)) == out1"
   ]
  },
  {
   "cell_type": "markdown",
   "metadata": {},
   "source": [
    "---\n",
    "## Part 8 (1 points)\n",
    "Get the first 3 biggest values from a dictionary and return a list of the keys. \n",
    "\n",
    "ex:\n",
    "```\n",
    "in: {1 : 12, 2 : 24, 3: 30, 4: -1, 5: 22}\n",
    "out: [3, 2, 5]\n",
    "```"
   ]
  },
  {
   "cell_type": "code",
   "execution_count": null,
   "metadata": {
    "deletable": false,
    "nbgrader": {
     "checksum": "ed16a4dbf45ec3223bef6b1c54be1180",
     "grade": false,
     "grade_id": "cell-a972d28f05bcfa20",
     "locked": false,
     "schema_version": 1,
     "solution": true
    }
   },
   "outputs": [],
   "source": [
    "def biggest_3(d1):\n",
    "    # YOUR CODE HERE\n",
    "    raise NotImplementedError()"
   ]
  },
  {
   "cell_type": "code",
   "execution_count": null,
   "metadata": {
    "deletable": false,
    "editable": false,
    "nbgrader": {
     "checksum": "b3f11935db4ab8d7ec64a6c8d091e533",
     "grade": true,
     "grade_id": "cell-255d924b8ffff5b8",
     "locked": true,
     "points": 1,
     "schema_version": 1,
     "solution": false
    }
   },
   "outputs": [],
   "source": [
    "assert biggest_3({1 : 12, 2 : 24, 3: 30, 4: -1, 5: 22}) == [3, 2, 5]"
   ]
  },
  {
   "cell_type": "markdown",
   "metadata": {},
   "source": [
    "---\n",
    "## Part 9 (1 points)\n",
    "Given two dictionaries d1 and d2, return a dictionary \n",
    "that contains all the keys in both the dictionaries that share the same value\n",
    "\n",
    "ex:\n",
    "```\n",
    "in: d1 = {1 : 12, 2 : 24, 3: 30, 4: -1, 5: 22}\n",
    "    d2 = {1 : 12, 2 : 24, 3: 30, 4: -2, 6: 22}\n",
    "out: {1 : 12, 2 : 24, 3: 30}\n",
    "```"
   ]
  },
  {
   "cell_type": "code",
   "execution_count": null,
   "metadata": {
    "deletable": false,
    "nbgrader": {
     "checksum": "73614a9b8f1b21fde4de283dbaf2cd9d",
     "grade": false,
     "grade_id": "cell-6ae3405af3acad74",
     "locked": false,
     "schema_version": 1,
     "solution": true
    }
   },
   "outputs": [],
   "source": [
    "def dict_intersect(d1, d2):\n",
    "    # YOUR CODE HERE\n",
    "    raise NotImplementedError()\n"
   ]
  },
  {
   "cell_type": "code",
   "execution_count": null,
   "metadata": {
    "deletable": false,
    "editable": false,
    "nbgrader": {
     "checksum": "c8a636d6fc57d7129bf10a838e2c1c7f",
     "grade": true,
     "grade_id": "cell-7d425ee7d03e52c1",
     "locked": true,
     "points": 1,
     "schema_version": 1,
     "solution": false
    }
   },
   "outputs": [],
   "source": [
    "assert dict_intersect({1 : 12, 2 : 24, 3: 30, 4: -1, 5: 22},\n",
    "                      {1 : 12, 2 : 24, 3: 30, 5: -1, 4: 22}) == {1 : 12, 2 : 24, 3: 30}"
   ]
  },
  {
   "cell_type": "markdown",
   "metadata": {},
   "source": [
    "---\n",
    "## Part 10 (1 points)\n",
    "Sum all values of key `ammount` for every distinct key `item`\n",
    "and return the sum as a dictionary, given a list of dictionaries.\n",
    "\n",
    "ex:\n",
    "```\n",
    "in: [{'item': 'item1', 'amount': 400}, \n",
    "     {'item': 'item2', 'amount': 300}, \n",
    "     {'item': 'item1', 'amount': 750}]\n",
    "out: {'item1': 1150, 'item2': 300}\n",
    "```"
   ]
  },
  {
   "cell_type": "code",
   "execution_count": null,
   "metadata": {
    "deletable": false,
    "nbgrader": {
     "checksum": "b81b79199b244db657fa0b73a0cd1e27",
     "grade": false,
     "grade_id": "cell-c777623ed911c552",
     "locked": false,
     "schema_version": 1,
     "solution": true
    }
   },
   "outputs": [],
   "source": [
    "def dict_collect(dictL):\n",
    "    # YOUR CODE HERE\n",
    "    raise NotImplementedError()\n"
   ]
  },
  {
   "cell_type": "code",
   "execution_count": null,
   "metadata": {
    "deletable": false,
    "editable": false,
    "nbgrader": {
     "checksum": "d5155aec92f613831b1f8a447efc79f6",
     "grade": true,
     "grade_id": "cell-a837cb5bb8de09f4",
     "locked": true,
     "points": 1,
     "schema_version": 1,
     "solution": false
    }
   },
   "outputs": [],
   "source": [
    "assert dict_collect([{'item': 'item1', 'amount': 400}, \n",
    "                     {'item': 'item2', 'amount': 300}, \n",
    "                     {'item': 'item1', 'amount': 750}]) == {'item2': 300, 'item1': 1150}"
   ]
  }
 ],
 "metadata": {
  "kernelspec": {
   "display_name": "Python 3",
   "language": "python",
   "name": "python3"
  },
  "language_info": {
   "codemirror_mode": {
    "name": "ipython",
    "version": 3
   },
   "file_extension": ".py",
   "mimetype": "text/x-python",
   "name": "python",
   "nbconvert_exporter": "python",
   "pygments_lexer": "ipython3",
   "version": "3.6.2"
  }
 },
 "nbformat": 4,
 "nbformat_minor": 2
}
