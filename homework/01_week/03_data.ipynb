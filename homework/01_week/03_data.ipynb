{
 "cells": [
  {
   "cell_type": "markdown",
   "metadata": {},
   "source": [
    "---\n",
    "## Part 1 (1 points)\n",
    "Return a tuple containing the sum, mean average and length of a list given as input."
   ]
  },
  {
   "cell_type": "code",
   "execution_count": 121,
   "metadata": {
    "nbgrader": {
     "grade": false,
     "grade_id": "cell-1dd9ebecc6447752",
     "locked": false,
     "schema_version": 1,
     "solution": true
    }
   },
   "outputs": [],
   "source": [
    "def average(l1):\n",
    "    ### BEGIN_SOLUTION\n",
    "    s = sum(l1)\n",
    "    l = len(l1)\n",
    "    return s, s / l, l\n",
    "    ### END_SOLUTION"
   ]
  },
  {
   "cell_type": "code",
   "execution_count": 122,
   "metadata": {
    "nbgrader": {
     "grade": true,
     "grade_id": "cell-9486a334677c53f5",
     "locked": true,
     "points": 1,
     "schema_version": 1,
     "solution": false
    }
   },
   "outputs": [],
   "source": [
    "assert average([1, 2, 3]) == (6, 2.0, 3)"
   ]
  },
  {
   "cell_type": "markdown",
   "metadata": {},
   "source": [
    "---\n",
    "## Part 2 (1 points)\n",
    "Create a third list from l1 and l2 that contains the even indexed elements from the first appended to the odd indexed elements from the second"
   ]
  },
  {
   "cell_type": "code",
   "execution_count": 37,
   "metadata": {
    "nbgrader": {
     "grade": false,
     "grade_id": "cell-75325ad0d6cc3321",
     "locked": false,
     "schema_version": 1,
     "solution": true
    }
   },
   "outputs": [],
   "source": [
    "def l1_add_l2(l1, l2):\n",
    "    ### BEGIN_SOLUTION\n",
    "    return [*l1[0::2], *l2[1::2]]    \n",
    "    ### END_SOLUTION"
   ]
  },
  {
   "cell_type": "code",
   "execution_count": 38,
   "metadata": {
    "nbgrader": {
     "grade": true,
     "grade_id": "cell-cf373b20f2e2dc1d",
     "locked": true,
     "points": 1,
     "schema_version": 1,
     "solution": false
    }
   },
   "outputs": [],
   "source": [
    "assert l1_add_l2([1, 2, 3, 4, 5],[1, 2, 3, 4, 5]) == [1, 3, 5, 2, 4]"
   ]
  },
  {
   "cell_type": "markdown",
   "metadata": {},
   "source": [
    "---\n",
    "## Part 3 (1 points)\n",
    "Remove an element at position i and put it at position j."
   ]
  },
  {
   "cell_type": "code",
   "execution_count": 35,
   "metadata": {
    "nbgrader": {
     "grade": false,
     "grade_id": "cell-ffc58f4512d2d0d5",
     "locked": false,
     "schema_version": 1,
     "solution": true
    }
   },
   "outputs": [],
   "source": [
    "def pop_and_add(s, i, j):\n",
    "    ### BEGIN_SOLUTION\n",
    "    item = s.pop(i)\n",
    "    s.insert(j, item)\n",
    "    return s\n",
    "    ### END_SOLUTION"
   ]
  },
  {
   "cell_type": "code",
   "execution_count": 36,
   "metadata": {
    "nbgrader": {
     "grade": true,
     "grade_id": "cell-2ffa9f0053765139",
     "locked": true,
     "points": 1,
     "schema_version": 1,
     "solution": false
    }
   },
   "outputs": [],
   "source": [
    "assert pop_and_add([1, 2, 3], 2, 0) == [3, 1, 2]\n",
    "assert pop_and_add([1, 2, 3, 4, 5], 1, 4) == [1, 3, 4, 5, 2]"
   ]
  },
  {
   "cell_type": "markdown",
   "metadata": {},
   "source": [
    "---\n",
    "## Part 4 (1 points)\n",
    "Given two sets s1 and s2, return a set containing elements from s1 or s2 but not both"
   ]
  },
  {
   "cell_type": "code",
   "execution_count": 49,
   "metadata": {
    "nbgrader": {
     "grade": false,
     "grade_id": "cell-5b3ceb6ea2878f2d",
     "locked": false,
     "schema_version": 1,
     "solution": true
    }
   },
   "outputs": [],
   "source": [
    "def set_ops(s1, s2):\n",
    "    ### BEGIN SOLUTION\n",
    "    return s1 ^ s2\n",
    "    ### END SOLUTION"
   ]
  },
  {
   "cell_type": "code",
   "execution_count": 50,
   "metadata": {
    "nbgrader": {
     "grade": true,
     "grade_id": "cell-fdbb5305e43cbfdb",
     "locked": true,
     "points": 1,
     "schema_version": 1,
     "solution": false
    }
   },
   "outputs": [],
   "source": [
    "assert set_ops({1,2,3}, {2,3,4}) == {1,4}"
   ]
  },
  {
   "cell_type": "markdown",
   "metadata": {},
   "source": [
    "---\n",
    "## Part 5 (1.5 points)\n",
    "Given a list l1, slice it into equally sized n chunks.\n",
    "(The length of the list is always divisible by n)"
   ]
  },
  {
   "cell_type": "code",
   "execution_count": 63,
   "metadata": {
    "nbgrader": {
     "grade": false,
     "grade_id": "cell-0049e43676eff8d0",
     "locked": false,
     "schema_version": 1,
     "solution": true
    }
   },
   "outputs": [],
   "source": [
    "def nslice(l1, n):\n",
    "    ### BEGIN SOLUTION\n",
    "    size = len(l1) // n    \n",
    "    return [l1[i:i + size] for i in range(0, len(l1), size)]\n",
    "    ### END SOLUTION"
   ]
  },
  {
   "cell_type": "code",
   "execution_count": 64,
   "metadata": {
    "nbgrader": {
     "grade": true,
     "grade_id": "cell-6de93cb32b4e080b",
     "locked": true,
     "points": 1.5,
     "schema_version": 1,
     "solution": false
    }
   },
   "outputs": [],
   "source": [
    "assert nslice([1, 2, 3, 4, 5, 6], 3) == [[1, 2], [3, 4], [5, 6]]\n",
    "assert nslice([1, 2, 3], 3) == [[1], [2], [3]]"
   ]
  },
  {
   "cell_type": "markdown",
   "metadata": {},
   "source": [
    "---\n",
    "## Part 6 (1.5 points)\n",
    "Given multiple lists as arguments create a function that returns the cartesian product.\n",
    "ex:\n",
    "```\n",
    "in: [1, 0], [2, 3]\n",
    "out: [[1, 2], [1, 3], [0, 2], [0, 3]]\n",
    "```\n"
   ]
  },
  {
   "cell_type": "code",
   "execution_count": 14,
   "metadata": {
    "nbgrader": {
     "grade": false,
     "grade_id": "cell-8a122ea79bb7e70a",
     "locked": false,
     "schema_version": 1,
     "solution": true
    }
   },
   "outputs": [],
   "source": [
    "def cart_prod(*lists):\n",
    "    ### BEGIN SOLUTION\n",
    "    result = [[]]\n",
    "    for l in lists:\n",
    "        result = [x + [y] for x in result for y in l]\n",
    "        # print (result)\n",
    "        \n",
    "    return result\n",
    "    ### END SOLUTION"
   ]
  },
  {
   "cell_type": "code",
   "execution_count": 15,
   "metadata": {
    "nbgrader": {
     "grade": true,
     "grade_id": "cell-49c72a78beb51f34",
     "locked": true,
     "points": 1.5,
     "schema_version": 1,
     "solution": false
    }
   },
   "outputs": [],
   "source": [
    "assert cart_prod([1, 0], [2, 3]) == [[1, 2], [1, 3], [0, 2], [0, 3]]\n",
    "assert cart_prod([1, 0], [2, 3], [4, 5]) == [[1, 2, 4], [1, 2, 5], [1, 3, 4], [1, 3, 5], \n",
    "                                             [0, 2, 4], [0, 2, 5], [0, 3, 4], [0, 3, 5]]"
   ]
  },
  {
   "cell_type": "markdown",
   "metadata": {},
   "source": [
    "---\n",
    "## Part 7 (1.5 points)\n",
    "Create all possible combinations of letters given a dictionary which values are characters.  \n",
    "**HINT**: use something implemented before  \n",
    "\n",
    "ex:\n",
    "```\n",
    "in: {1 : ['a','b'], 2 : ['c','d']}\n",
    "out: ['ac', 'ad', 'bc', 'cd']\n",
    "```"
   ]
  },
  {
   "cell_type": "code",
   "execution_count": 96,
   "metadata": {
    "nbgrader": {
     "grade": false,
     "grade_id": "cell-55b26f0accdb7d23",
     "locked": false,
     "schema_version": 1,
     "solution": true
    }
   },
   "outputs": [],
   "source": [
    "def all_chars(d1):\n",
    "    ### BEGIN SOLUTION\n",
    "    return [''.join(x) for x in cart_prod(*d1.values())]\n",
    "    ### END SOLUTION"
   ]
  },
  {
   "cell_type": "code",
   "execution_count": 99,
   "metadata": {
    "nbgrader": {
     "grade": true,
     "grade_id": "cell-484620fc342d2353",
     "locked": true,
     "points": 1.5,
     "schema_version": 1,
     "solution": false
    }
   },
   "outputs": [],
   "source": [
    "in0 = {1 : ['a','b'], 2 : ['c','d']}\n",
    "out0 = ['ac', 'ad', 'bc', 'bd']\n",
    "assert sorted(all_chars(in0)) == out0\n",
    "\n",
    "in1 = {1 : ['a','b'], 2 : ['c','d'], 3 : ['e']}\n",
    "out1 = ['ace', 'ade', 'bce', 'bde']\n",
    "assert sorted(all_chars(in1)) == out1"
   ]
  },
  {
   "cell_type": "markdown",
   "metadata": {},
   "source": [
    "---\n",
    "## Part 8 (1 points)\n",
    "Get the first 3 biggest values from a dictionary and return a list of the keys. \n",
    "\n",
    "ex:\n",
    "```\n",
    "in: {1 : 12, 2 : 24, 3: 30, 4: -1, 5: 22}\n",
    "out: [3, 2, 5]\n",
    "```"
   ]
  },
  {
   "cell_type": "code",
   "execution_count": 106,
   "metadata": {
    "nbgrader": {
     "grade": false,
     "grade_id": "cell-a972d28f05bcfa20",
     "locked": false,
     "schema_version": 1,
     "solution": true
    }
   },
   "outputs": [],
   "source": [
    "def biggest_3(d1):\n",
    "    ### BEGIN SOLUTION\n",
    "    return [x for x, _ in sorted(d1.items(), key=lambda x: x[1], reverse=True)[:3]]\n",
    "    ### END SOLUTION"
   ]
  },
  {
   "cell_type": "code",
   "execution_count": 107,
   "metadata": {
    "nbgrader": {
     "grade": true,
     "grade_id": "cell-255d924b8ffff5b8",
     "locked": true,
     "points": 1,
     "schema_version": 1,
     "solution": false
    }
   },
   "outputs": [],
   "source": [
    "assert biggest_3({1 : 12, 2 : 24, 3: 30, 4: -1, 5: 22}) == [3, 2, 5]"
   ]
  },
  {
   "cell_type": "markdown",
   "metadata": {},
   "source": [
    "---\n",
    "## Part 9 (1 points)\n",
    "Given two dictionaries d1 and d2, return a dictionary \n",
    "that contains all the keys in both the dictionaries that share the same value\n",
    "\n",
    "ex:\n",
    "```\n",
    "in: d1 = {1 : 12, 2 : 24, 3: 30, 4: -1, 5: 22}\n",
    "    d2 = {1 : 12, 2 : 24, 3: 30, 4: -2, 6: 22}\n",
    "out: {1 : 12, 2 : 24, 3: 30}\n",
    "```"
   ]
  },
  {
   "cell_type": "code",
   "execution_count": 112,
   "metadata": {
    "nbgrader": {
     "grade": false,
     "grade_id": "cell-6ae3405af3acad74",
     "locked": false,
     "schema_version": 1,
     "solution": true
    }
   },
   "outputs": [],
   "source": [
    "def dict_intersect(d1, d2):\n",
    "    ### BEGIN SOLUTION\n",
    "    return {k : d1[k] for k in set(d1.keys()) & set(d2.keys()) if d1[k] == d2[k]}\n",
    "    ### END SOLUTION\n"
   ]
  },
  {
   "cell_type": "code",
   "execution_count": 113,
   "metadata": {
    "nbgrader": {
     "grade": true,
     "grade_id": "cell-7d425ee7d03e52c1",
     "locked": true,
     "points": 1,
     "schema_version": 1,
     "solution": false
    }
   },
   "outputs": [],
   "source": [
    "assert dict_intersect({1 : 12, 2 : 24, 3: 30, 4: -1, 5: 22},\n",
    "                      {1 : 12, 2 : 24, 3: 30, 5: -1, 4: 22}) == {1 : 12, 2 : 24, 3: 30}"
   ]
  },
  {
   "cell_type": "markdown",
   "metadata": {},
   "source": [
    "---\n",
    "## Part 10 (1 points)\n",
    "Sum all values of key `ammount` for every distinct key `item`\n",
    "and return the sum as a dictionary, given a list of dictionaries.\n",
    "\n",
    "ex:\n",
    "```\n",
    "in: [{'item': 'item1', 'amount': 400}, \n",
    "     {'item': 'item2', 'amount': 300}, \n",
    "     {'item': 'item1', 'amount': 750}]\n",
    "out: {'item1': 1150, 'item2': 300}\n",
    "```"
   ]
  },
  {
   "cell_type": "code",
   "execution_count": 119,
   "metadata": {
    "nbgrader": {
     "grade": false,
     "grade_id": "cell-c777623ed911c552",
     "locked": false,
     "schema_version": 1,
     "solution": true
    }
   },
   "outputs": [],
   "source": [
    "def dict_collect(dictL):\n",
    "    ### BEGIN SOLUTION\n",
    "    result = {}\n",
    "    \n",
    "    for d in dictL:\n",
    "        result[d['item']] = result.get(d['item'], 0) + d['amount']\n",
    "        \n",
    "    return result\n",
    "    ### END SOLUTION\n"
   ]
  },
  {
   "cell_type": "code",
   "execution_count": 120,
   "metadata": {
    "nbgrader": {
     "grade": true,
     "grade_id": "cell-a837cb5bb8de09f4",
     "locked": true,
     "points": 1,
     "schema_version": 1,
     "solution": false
    }
   },
   "outputs": [],
   "source": [
    "assert dict_collect([{'item': 'item1', 'amount': 400}, \n",
    "                     {'item': 'item2', 'amount': 300}, \n",
    "                     {'item': 'item1', 'amount': 750}]) == {'item2': 300, 'item1': 1150}"
   ]
  }
 ],
 "metadata": {
  "celltoolbar": "Create Assignment",
  "kernelspec": {
   "display_name": "Python 3",
   "language": "python",
   "name": "python3"
  },
  "language_info": {
   "codemirror_mode": {
    "name": "ipython",
    "version": 3
   },
   "file_extension": ".py",
   "mimetype": "text/x-python",
   "name": "python",
   "nbconvert_exporter": "python",
   "pygments_lexer": "ipython3",
   "version": "3.6.2"
  }
 },
 "nbformat": 4,
 "nbformat_minor": 2
}
