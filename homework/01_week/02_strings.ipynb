{
 "cells": [
  {
   "cell_type": "markdown",
   "metadata": {},
   "source": [
    "Before you turn this problem in, make sure everything runs as expected. First, **restart the kernel** (in the menubar, select Kernel$\\rightarrow$Restart) and then **run all cells** (in the menubar, select Cell$\\rightarrow$Run All).\n",
    "\n",
    "Make sure you fill in any place that says `YOUR CODE HERE` or \"YOUR ANSWER HERE\", as well as your name and collaborators below:"
   ]
  },
  {
   "cell_type": "code",
   "execution_count": null,
   "metadata": {},
   "outputs": [],
   "source": [
    "NAME = \"\"\n",
    "COLLABORATORS = \"\""
   ]
  },
  {
   "cell_type": "markdown",
   "metadata": {},
   "source": [
    "---"
   ]
  },
  {
   "cell_type": "markdown",
   "metadata": {},
   "source": [
    "---\n",
    "## Part 1 (1 points)\n",
    "\n",
    "Fill `____` pieces below to have correct values for `lower_cased`, `stripped` and `stripped_lower_case` variables."
   ]
  },
  {
   "cell_type": "code",
   "execution_count": null,
   "metadata": {
    "deletable": false,
    "nbgrader": {
     "checksum": "3d1e242e330008e3a74c3e98dde52c70",
     "grade": false,
     "grade_id": "cell-56db8d8fcc3971ee",
     "locked": false,
     "schema_version": 1,
     "solution": true
    }
   },
   "outputs": [],
   "source": [
    "original = ' Python strings are COOL! '\n",
    "lower_cased = original._____\n",
    "stripped = ____.strip()\n",
    "stripped_lower_cased = original._____._____\n",
    "\n",
    "# DELETE THE RAISE EXCEPTION BELOW\n",
    "# YOUR CODE HERE\n",
    "raise NotImplementedError()"
   ]
  },
  {
   "cell_type": "code",
   "execution_count": null,
   "metadata": {
    "deletable": false,
    "editable": false,
    "nbgrader": {
     "checksum": "51c9f5022d69710446d07617c2362756",
     "grade": true,
     "grade_id": "cell-a060047614e2c6dd",
     "locked": true,
     "points": 1,
     "schema_version": 1,
     "solution": false
    }
   },
   "outputs": [],
   "source": [
    "assert lower_cased == ' python strings are cool! '\n",
    "assert stripped == 'Python strings are COOL!'\n",
    "assert stripped_lower_cased == 'python strings are cool!'"
   ]
  },
  {
   "cell_type": "markdown",
   "metadata": {},
   "source": [
    "---\n",
    "## Part 2 (1 points)\n",
    "\n",
    "Given a string of odd length >= 5, return a string composed of the three middle characters of the input."
   ]
  },
  {
   "cell_type": "code",
   "execution_count": null,
   "metadata": {
    "deletable": false,
    "nbgrader": {
     "checksum": "fe6330fc5424db4c0592ce5965712132",
     "grade": false,
     "grade_id": "cell-b0560df0906b50b1",
     "locked": false,
     "schema_version": 1,
     "solution": true
    }
   },
   "outputs": [],
   "source": [
    "def middle_chars(orig):\n",
    "    # YOUR CODE HERE\n",
    "    raise NotImplementedError()"
   ]
  },
  {
   "cell_type": "code",
   "execution_count": null,
   "metadata": {
    "deletable": false,
    "editable": false,
    "nbgrader": {
     "checksum": "b6ca197459a331f61703558f2aeae209",
     "grade": true,
     "grade_id": "cell-b2449c576093e63f",
     "locked": true,
     "points": 1,
     "schema_version": 1,
     "solution": false
    }
   },
   "outputs": [],
   "source": [
    "assert middle_chars('12345') == '234'\n",
    "assert middle_chars('abc000ghi') == '000'"
   ]
  },
  {
   "cell_type": "markdown",
   "metadata": {},
   "source": [
    "---\n",
    "## Part 2 (1 points)\n",
    "\n",
    "Find the first appearance of the substring 'not' and 'poor' from a given string, if 'not' follows the 'poor', replace the **whole** 'not'...'poor' substring with 'good'. Return the resulting string"
   ]
  },
  {
   "cell_type": "code",
   "execution_count": null,
   "metadata": {
    "deletable": false,
    "nbgrader": {
     "checksum": "a9ceb72d89e5d907ca3254a2ec67cbd6",
     "grade": false,
     "grade_id": "cell-79275f6d6146ff60",
     "locked": false,
     "schema_version": 1,
     "solution": true
    }
   },
   "outputs": [],
   "source": [
    "def replace_str(orig):\n",
    "    # YOUR CODE HERE\n",
    "    raise NotImplementedError()"
   ]
  },
  {
   "cell_type": "code",
   "execution_count": null,
   "metadata": {
    "deletable": false,
    "editable": false,
    "nbgrader": {
     "checksum": "be77fe16163d9915a81eb0b65c502176",
     "grade": true,
     "grade_id": "cell-e7a4e71debcf7ca0",
     "locked": true,
     "points": 1,
     "schema_version": 1,
     "solution": false
    }
   },
   "outputs": [],
   "source": [
    "assert replace_str('The lyrics are not that poor!') == 'The lyrics are good!'\n",
    "assert replace_str('The lyrics are poor!') == 'The lyrics are poor!'"
   ]
  },
  {
   "cell_type": "markdown",
   "metadata": {},
   "source": [
    "---\n",
    "## Part 3 (1 points)\n",
    "Find if all chars in s1 are in s2."
   ]
  },
  {
   "cell_type": "code",
   "execution_count": null,
   "metadata": {
    "deletable": false,
    "nbgrader": {
     "checksum": "dce96a11a922ee1520f1a8631d6b947b",
     "grade": false,
     "grade_id": "cell-423fa6f68129ad12",
     "locked": false,
     "schema_version": 1,
     "solution": true
    }
   },
   "outputs": [],
   "source": [
    "def s1_in_s2(s1, s2):\n",
    "    # YOUR CODE HERE\n",
    "    raise NotImplementedError()"
   ]
  },
  {
   "cell_type": "code",
   "execution_count": null,
   "metadata": {
    "deletable": false,
    "editable": false,
    "nbgrader": {
     "checksum": "2d20d16233fba42df0c704f25dd653c0",
     "grade": true,
     "grade_id": "cell-f20d039aee4b3a2e",
     "locked": true,
     "points": 1,
     "schema_version": 1,
     "solution": false
    }
   },
   "outputs": [],
   "source": [
    "assert s1_in_s2('12345', '111222333444555') == True\n",
    "assert s1_in_s2('12345', '222333444555') == False"
   ]
  },
  {
   "cell_type": "markdown",
   "metadata": {},
   "source": [
    "---\n",
    "## Part 4 (1 point) \n",
    "---\n",
    "**one-liner bonus** (1 point)\n",
    "\n",
    "Write a Python program that accepts a comma separated sequence of words and prints the \n",
    "unique words in sorted form (alphanumerically).\n",
    "\n"
   ]
  },
  {
   "cell_type": "code",
   "execution_count": null,
   "metadata": {
    "deletable": false,
    "nbgrader": {
     "checksum": "f588afb0faf34ff14276820c3b31dc3b",
     "grade": false,
     "grade_id": "cell-290e46d5aadbb1a3",
     "locked": false,
     "schema_version": 1,
     "solution": true
    }
   },
   "outputs": [],
   "source": [
    "def sort_words(string):\n",
    "    # YOUR CODE HERE\n",
    "    raise NotImplementedError()"
   ]
  },
  {
   "cell_type": "code",
   "execution_count": null,
   "metadata": {
    "deletable": false,
    "editable": false,
    "nbgrader": {
     "checksum": "c5bc000f979e182e544cfbc1220db59f",
     "grade": true,
     "grade_id": "cell-8877572ac2227f28",
     "locked": true,
     "points": 1,
     "schema_version": 1,
     "solution": false
    }
   },
   "outputs": [],
   "source": [
    "assert sort_words('red, black, pink, green, black, green, pink, red') == 'black, green, pink, red'"
   ]
  },
  {
   "cell_type": "markdown",
   "metadata": {},
   "source": [
    "---\n",
    "# Part 5 (1 points)\n",
    "Write a Python taking a cube edge size and the number of decimal precision we want and returns the volume of the cube in cm^3.\n",
    "Look online for unicode symbols."
   ]
  },
  {
   "cell_type": "code",
   "execution_count": null,
   "metadata": {
    "deletable": false,
    "nbgrader": {
     "checksum": "3913ff39436bd34ae40bceb146462174",
     "grade": false,
     "grade_id": "cell-80a6bd7b9b4b5004",
     "locked": false,
     "schema_version": 1,
     "solution": true
    }
   },
   "outputs": [],
   "source": [
    "def volume_of_cube(edge, decimals):\n",
    "    # YOUR CODE HERE\n",
    "    raise NotImplementedError()"
   ]
  },
  {
   "cell_type": "code",
   "execution_count": null,
   "metadata": {
    "deletable": false,
    "editable": false,
    "nbgrader": {
     "checksum": "421e0ce644fedc017cf42035b1b36989",
     "grade": true,
     "grade_id": "cell-14d588762975409c",
     "locked": true,
     "points": 1,
     "schema_version": 1,
     "solution": false
    }
   },
   "outputs": [],
   "source": [
    "assert volume_of_cube(2, 2) == 'The volume of the cube is 8.00cm³'\n",
    "assert volume_of_cube(4.5, 3) == 'The volume of the cube is 91.125cm³'"
   ]
  },
  {
   "cell_type": "markdown",
   "metadata": {},
   "source": [
    "---\n",
    "# Part 6 (2 points)\n",
    "Count repeated characters of a string in a dictionary and order the resulting array of touples by number of occurances from higher to lower and in the case of equality order alphabetically.\n",
    "\n",
    "ex:\n",
    "```\n",
    "in: repeated('0001112223334455')\n",
    "out: [('0', 3), ('1', 3), ('2', 3), ('3', 3), ('4', 2), ('5', 2)]\n",
    "```"
   ]
  },
  {
   "cell_type": "code",
   "execution_count": null,
   "metadata": {
    "deletable": false,
    "nbgrader": {
     "checksum": "5aad28ea13f5660138534fd1223e3fa1",
     "grade": false,
     "grade_id": "cell-2a796b97b4e8ad5b",
     "locked": false,
     "schema_version": 1,
     "solution": true
    }
   },
   "outputs": [],
   "source": [
    "def repeated(string):\n",
    "    # YOUR CODE HERE\n",
    "    raise NotImplementedError()"
   ]
  },
  {
   "cell_type": "code",
   "execution_count": null,
   "metadata": {
    "deletable": false,
    "editable": false,
    "nbgrader": {
     "checksum": "b5a444bce86bbeb208dbd447cb23c519",
     "grade": true,
     "grade_id": "cell-fd35022c43c67491",
     "locked": true,
     "points": 2,
     "schema_version": 1,
     "solution": false
    }
   },
   "outputs": [],
   "source": [
    "assert repeated('asdasddsada') == [('a', 4), ('d', 4), ('s', 3)]\n",
    "assert repeated('0001112223334455') == [('0', 3), ('1', 3), ('2', 3), ('3', 3), ('4', 2), ('5', 2)]"
   ]
  }
 ],
 "metadata": {
  "kernelspec": {
   "display_name": "Python 3",
   "language": "python",
   "name": "python3"
  },
  "language_info": {
   "codemirror_mode": {
    "name": "ipython",
    "version": 3
   },
   "file_extension": ".py",
   "mimetype": "text/x-python",
   "name": "python",
   "nbconvert_exporter": "python",
   "pygments_lexer": "ipython3",
   "version": "3.6.2"
  }
 },
 "nbformat": 4,
 "nbformat_minor": 2
}
