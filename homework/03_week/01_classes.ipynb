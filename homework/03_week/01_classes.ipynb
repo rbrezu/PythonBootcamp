{
 "cells": [
  {
   "cell_type": "markdown",
   "source": [
    "**Hint**: Read about minimax algorithm for ai player\n",
    "[here](https://www.geeksforgeeks.org/minimax-algorithm-in-game-theory-set-1-introduction/)\n",
    "\n",
    "1. Tic-Tac-Toe (1 point)\n",
    "==================\n",
    "Complete the tic-tac-toe project with a computer controlled player with\n",
    "an algorithm of your choosing.  \n",
    "\n",
    "2. Connect 4 (2 points)\n",
    "============\n",
    "[Connect](https://en.wikipedia.org/wiki/Connect_Four) -- Connect 4 game. Click a row to drop a disc. The first player to connect four discs vertically, horizontally, or diagonally wins!  \n",
    "\n",
    "3 classes: Player class, Board class, Game class.  \n",
    "Create a computer controlled player class.\n",
    "\n",
    "3. Hangman (1.5 points)\n",
    "===================\n",
    "Create a basic hangman game.\n",
    "Draw the board :D.  \n",
    "```\n",
    "  +---+\n",
    "  |   |\n",
    "      |\n",
    "      |\n",
    "      |\n",
    "      |\n",
    "=========\n",
    "\n",
    "WORD: H _ N G M _ N\n",
    "```\n",
    "\n",
    "Select a random word from a dictionary that you store in a text file.\n",
    "\n",
    "\n",
    "4. Calendar (2 points)\n",
    "===================\n",
    "Create a command line program that functions like a calendar for people.  \n",
    "Persist everything in text files in a folder called `/data`.\n",
    "\n",
    "Classes:\n",
    " - Person\n",
    " - Event (subclasses: Meeting, Note, Class, etc.)\n",
    " - Calendar\n",
    " \n",
    "Note:\n",
    " - an Event may contain multiple people and those people and only those people can\n",
    " see that item\n",
    "\n",
    "Functionalities:\n",
    " - login with username and password (stored in a text file)\n",
    " - add/remove event items from calendar for a person\n",
    " - query calendar by type and between dates and show all calendar items\n",
    " - an event should have at least a datetime, a name, a description and a list of members (Persons)   \n"
   ],
   "metadata": {
    "collapsed": false,
    "pycharm": {
     "name": "#%% md\n"
    }
   }
  }
 ],
 "metadata": {
  "language_info": {
   "codemirror_mode": {
    "name": "ipython",
    "version": 2
   },
   "file_extension": ".py",
   "mimetype": "text/x-python",
   "name": "python",
   "nbconvert_exporter": "python",
   "pygments_lexer": "ipython2",
   "version": "2.7.6"
  },
  "kernelspec": {
   "name": "python3",
   "language": "python",
   "display_name": "Python 3"
  },
  "pycharm": {
   "stem_cell": {
    "cell_type": "raw",
    "source": [],
    "metadata": {
     "collapsed": false
    }
   }
  }
 },
 "nbformat": 4,
 "nbformat_minor": 0
}