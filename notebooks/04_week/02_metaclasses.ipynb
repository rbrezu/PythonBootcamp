{
 "cells": [
  {
   "cell_type": "markdown",
   "metadata": {
    "collapsed": true,
    "pycharm": {
     "name": "#%% md\n"
    }
   },
   "source": [
    "# Metaclasses\n",
    "### A quick overview\n",
    "\n",
    "A high level explanation is necessary before we get down to the details.\n",
    "\n",
    "A class is an object, and just like any other object, it's an instance of something: a metaclass. The default metaclass is type. Unfortunately, due to backwards compatibility, type is a bit confusing: it can also be used as a function that return the class of an object"
   ]
  },
  {
   "cell_type": "code",
   "execution_count": 1,
   "outputs": [
    {
     "data": {
      "text/plain": "type"
     },
     "metadata": {},
     "output_type": "execute_result",
     "execution_count": 1
    }
   ],
   "source": [
    "class Foobar:\n",
    "     pass\n",
    "\n",
    "type(Foobar)"
   ],
   "metadata": {
    "collapsed": false,
    "pycharm": {
     "name": "#%%\n",
     "is_executing": false
    }
   }
  },
  {
   "cell_type": "code",
   "execution_count": 2,
   "outputs": [
    {
     "data": {
      "text/plain": "__main__.Foobar"
     },
     "metadata": {},
     "output_type": "execute_result",
     "execution_count": 2
    }
   ],
   "source": [
    "foo = Foobar()\n",
    "type(foo)"
   ],
   "metadata": {
    "collapsed": false,
    "pycharm": {
     "name": "#%%\n",
     "is_executing": false
    }
   }
  },
  {
   "cell_type": "code",
   "execution_count": 3,
   "outputs": [
    {
     "data": {
      "text/plain": "True"
     },
     "metadata": {},
     "output_type": "execute_result",
     "execution_count": 3
    }
   ],
   "source": [
    "isinstance(foo, Foobar)"
   ],
   "metadata": {
    "collapsed": false,
    "pycharm": {
     "name": "#%%\n",
     "is_executing": false
    }
   }
  },
  {
   "cell_type": "code",
   "execution_count": 4,
   "outputs": [
    {
     "data": {
      "text/plain": "True"
     },
     "metadata": {},
     "output_type": "execute_result",
     "execution_count": 4
    }
   ],
   "source": [
    "isinstance(Foobar, type)"
   ],
   "metadata": {
    "collapsed": false,
    "pycharm": {
     "name": "#%%\n",
     "is_executing": false
    }
   }
  },
  {
   "cell_type": "markdown",
   "source": [
    "To put this in picture:  \n",
    "![pic](instance-of.png)"
   ],
   "metadata": {
    "collapsed": false,
    "pycharm": {
     "name": "#%% md\n"
    }
   }
  },
  {
   "cell_type": "markdown",
   "source": [
    "### Simple metaclass use\n",
    "\n",
    "We can use type directly to make a class, without any class statement:"
   ],
   "metadata": {
    "collapsed": false,
    "pycharm": {
     "name": "#%% md\n"
    }
   }
  },
  {
   "cell_type": "code",
   "execution_count": 5,
   "outputs": [
    {
     "data": {
      "text/plain": "__main__.MyClass"
     },
     "metadata": {},
     "output_type": "execute_result",
     "execution_count": 5
    }
   ],
   "source": [
    "MyClass = type('MyClass', (), {})\n",
    "MyClass"
   ],
   "metadata": {
    "collapsed": false,
    "pycharm": {
     "name": "#%%\n",
     "is_executing": false
    }
   }
  },
  {
   "cell_type": "markdown",
   "source": [
    "The class statement isn't just syntactic sugar, it does some extra things, like setting an adequate `__qualname__` and `__doc__` properties or calling `__prepare__`.\n",
    "\n",
    "We can make a custom metaclass:"
   ],
   "metadata": {
    "collapsed": false,
    "pycharm": {
     "name": "#%% md\n"
    }
   }
  },
  {
   "cell_type": "code",
   "execution_count": 7,
   "outputs": [],
   "source": [
    "class Meta(type):\n",
    "    pass"
   ],
   "metadata": {
    "collapsed": false,
    "pycharm": {
     "name": "#%%\n",
     "is_executing": false
    }
   }
  },
  {
   "cell_type": "code",
   "execution_count": 8,
   "outputs": [
    {
     "data": {
      "text/plain": "__main__.Meta"
     },
     "metadata": {},
     "output_type": "execute_result",
     "execution_count": 8
    }
   ],
   "source": [
    "class Complex(metaclass=Meta):\n",
    "    pass\n",
    "\n",
    "type(Complex)"
   ],
   "metadata": {
    "collapsed": false,
    "pycharm": {
     "name": "#%%\n",
     "is_executing": false
    }
   }
  },
  {
   "cell_type": "markdown",
   "source": [
    "### Magic methods\n",
    "One distinctive feature of Python is magic methods: they allow the programmer to override behavior for various operators and behavior of objects. To override the call operator you'd do this:"
   ],
   "metadata": {
    "collapsed": false,
    "pycharm": {
     "name": "#%% md\n"
    }
   }
  },
  {
   "cell_type": "code",
   "execution_count": null,
   "outputs": [],
   "source": [
    "class Funky:\n",
    "     def __call__(self):\n",
    "         print(\"Look at me, I work like a function!\")\n",
    "\n",
    "f = Funky()\n",
    "f()"
   ],
   "metadata": {
    "collapsed": false,
    "pycharm": {
     "name": "#%%\n"
    }
   }
  },
  {
   "cell_type": "markdown",
   "source": [
    "Metaclasses rely on several magic methods so it's quite useful to know a bit more about them.\n",
    "### The slots\n",
    "\n",
    "When you define a magic method in your class the function will end up as a pointer in a [struct that describes the class](https://docs.python.org/3/c-api/typeobj.html), in addition to the entry in `__dict__`. That struct [7] has a field for each magic method. For some reason these fields are called type slots.\n",
    "\n",
    "Now there's another feature, implemented via the `__slots__` [attribute](https://docs.python.org/3/reference/datamodel.html#object.__slots__). A class with `__slots__` will create instances that don't have a `__dict__` (they use a little bit less memory). A side-effect of this is that instances cannot have other fields than what was specified in `__slots__`: if you try to set an unexpected field you'll get an exception.\n",
    "\n",
    "For the scope of this article when slots are mentioned it will mean the type slots, not `__slots__`.\n",
    "\n",
    "### Object attribute lookup\n",
    "Now this is something that's easy to get wrong because of the many slight differences to old-style objects in Python 2.\n",
    "\n",
    "Assuming Class is the class and instance is an instance of Class, evaluating instance.foobar roughly equates to this:\n",
    "\n",
    "- Call the type slot for Class.`__getattribute__` (tp_getattro). The default does this: [10]\n",
    "  - Does Class.`__dict__` have a foobar item that is a data descriptor [8]?\n",
    "     - If yes, return the result of Class.`__dict__`['foobar'].`__get__`(instance, Class). [6]\n",
    "  - Does instance.`__dict__` have a foobar item in it?\n",
    "     - If yes, return instance.`__dict__`['foobar'].\n",
    "  - Does Class.`__dict__` have a foobar item that is not a data descriptor [9]?\n",
    "     - If yes, return the result of Class.`__dict__`['foobar'].`__get__`(instance, klass). [6]\n",
    "  - Does Class.`__dict__` have a foobar item?\n",
    "     - If yes, return the result of Class.`__dict__`['foobar'].\n",
    "- If the attribute still wasn't found, and there's a Class.`__getattr__`, call Class.`__getattr__`('foobar').\n",
    "\n",
    "Still not clear? Perhaps a diagram normal attribute lookup helps:\n",
    "\n",
    "![Lookup](lookup.png \"Title\")\n",
    "\n",
    "```\n",
    "To avoid creating confusions with the “.” operator doing crazy things I've used “:” in this diagram to signify the location.\n",
    "```\n",
    "\n",
    "### Class attribute lookup\n",
    "\n",
    "Because classes needs to be able support the classmethod and staticmethod properties [6] when you evaluate something like Class.foobar the lookup is slightly different than what would happen when you evaluate instance.foobar.\n",
    "\n",
    "Assuming Class is an instance of Metaclass, evaluating Class.foobar roughly equates to this:\n",
    "\n",
    "- Call the type slot for Metaclass.`__getattribute__` (tp_getattro). The default does this: [11]\n",
    "  - Does Metaclass.`__dict__` have a foobar item that is a data descriptor [8]?\n",
    "     - If yes, return the result of Metaclass.`__dict__`['foobar'].`__get__`(Class, Metaclass). [6]\n",
    "  - Does Class.`__dict__` have a foobar item that is a descriptor (of any kind)?\n",
    "     - If yes, return the result of Class.`__dict__`['foobar'].`__get__`(None, Class). [6]\n",
    "  - Does Class.`__dict__` have a foobar item in it?\n",
    "     - If yes, return Class.`__dict__`['foobar'].\n",
    "  - Does Metaclass.`__dict__` have a foobar item that is not a data descriptor [9]?\n",
    "     - If yes, return the result of Metaclass.`__dict__`['foobar'].`__get__`(Class, Metaclass). [6]\n",
    "  - Does Metaclass.`__dict__` have any foobar item?\n",
    "     - If yes, return Metaclass.`__dict__`['foobar'].\n",
    "- If the attribute still wasn't found, and there's a Metaclass.`__getattr__`, call Metaclass.`__getattr__`('foobar').\n",
    "\n",
    "The whole shebang would look like this in a diagram:\n",
    "\n",
    "![Lookup-2](class-attribute-lookup.png \"Title\")\n",
    "\n",
    "### The `__new__` method\n",
    "\n",
    "One of the most common point of confusion with both classes and metaclasses is the `__new__` method. It has some very special conventions.\n",
    "\n",
    "The `__new__` method is the constructor (it returns the new instance) while `__init__` is just a initializer (the instance is already created when `__init__` is called).\n",
    "\n",
    "Suppose have a class like this:\n",
    "\n",
    "```\n",
    "class Foobar:\n",
    "    def __new__(cls):\n",
    "        return super().__new__(cls)\n",
    "```\n",
    "\n",
    "Now if you recall the previous section, you'd expect that `__new__` would be looked up on the metaclass, but alas, it wouldn't be so useful that way [19] so it's looked up statically.\n",
    "\n",
    "When the Foobar class wants this magic method it will be looked up on the same object (the class), not on a upper level like all the other magic methods. This is very important to understand, because both the class and the metaclass can define this method:\n",
    "\n",
    "- `Foobar.__new__` is used to create instances of Foobar\n",
    "- `type.__new__` is used to create the Foobar class (an instance of type in the example)\n",
    "\n",
    "### The `__prepare__` method\n",
    "\n",
    "This method is called before the class body is executed and it must return a dictionary-like object that's used as the local namespace for all the code from the class body. It was added in Python 3.0, see PEP-3115.\n",
    "\n",
    "If your `__prepare__` returns an object x then this:\n",
    "\n",
    "```\n",
    "class Class(metaclass=Meta):\n",
    "    a = 1\n",
    "    b = 2\n",
    "    c = 3\n",
    "```\n",
    "\n",
    "Will make the following changes to x:\n",
    "\n",
    "```\n",
    "x['a'] = 1\n",
    "x['b'] = 2\n",
    "x['c'] = 3\n",
    "```\n",
    "\n",
    "This x object needs to look like a dictionary. Note that this x object will end up as an argument to Metaclass.`__new__` and if it's not an instance of dict you need to convert it before calling super().`__new__`.\n",
    "\n",
    "Interestingly enough this method doesn't have `__new__`'s special lookup. It appears it doesn't have it's own type slot and it's looked up via the class attribute lookup, if you read back a bit. \n",
    "\n",
    "### Putting it all together\n",
    "\n",
    "To start things off, a diagram of how instances are constructed:\n",
    "\n",
    "![Lookup-3](instance-creation.png \"Title\")\n",
    "\n",
    "How to read this swim lane diagram:\n",
    "\n",
    "The horizontal lanes is the place where you define the functions.\n",
    "\n",
    "- Solid lines mean a function call.\n",
    "- A line from Metaclass.`__call__` to Class.`__new__` means Metaclass.`__call__` will call Class.`__new__`.\n",
    "  - Dashed lines means something is returned.\n",
    "- Class.`__new__` returns the instance of Class.\n",
    "  - Metaclass.`__call__` returns whatever Class.`__new__` returned (and if it returned an instance of Class it will also call Class.`__init__` on it). [16]\n",
    "  - The number in the red circle signifies the call order.\n",
    "  \n",
    "- Creating a class is quite similar:  \n",
    "\n",
    "![Lookup-4](class-creation.png \"Title\")\n",
    "\n",
    "Few more notes:\n",
    "\n",
    "- Metaclass.`__prepare__` just returns the namespace object (a dictionary-like object as explained before).\n",
    "- Metaclass.`__new__` returns the Class object.\n",
    "- MetaMetaclass.`__call__` returns whatever Metaclass.`__new__` returned (and if it returned an instance of Metaclass it will also call Metaclass.`__init__` on it). [16]\n",
    "\n",
    "So you see, metaclasses allow you to customize almost every part of an object life-cycle.\n",
    "\n",
    "### Metaclasses are callables\n",
    "\n",
    "Metaclasses are callables\n",
    "If you look again at the diagrams, you'll notice that making an instance goes through Metaclass.__call__. This means you can use any callable as the metaclass:\n"
   ],
   "metadata": {
    "collapsed": false,
    "pycharm": {
     "name": "#%% md\n"
    }
   }
  },
  {
   "cell_type": "code",
   "execution_count": 11,
   "outputs": [
    {
     "name": "stdout",
     "text": [
      "Foo () {'__module__': '__main__', '__qualname__': 'Foo'}\nNone\n"
     ],
     "output_type": "stream"
    }
   ],
   "source": [
    "class Foo(metaclass=print):  # pointless, but illustrative\n",
    "    pass\n",
    "\n",
    "print(Foo)"
   ],
   "metadata": {
    "collapsed": false,
    "pycharm": {
     "name": "#%%\n",
     "is_executing": false
    }
   }
  },
  {
   "cell_type": "markdown",
   "source": [
    "### Subclasses inherit the metaclass\n",
    "\n",
    "One advantage compared to class decorators is the fact that subclasses inherit the metaclass.\n",
    "\n",
    "This is a consequence of the fact that Metaclass(...) returns an object which usually has Metaclass as the `__class__`.\n",
    "\n",
    "### The method signatures\n",
    "\n",
    "There are still few important details missing, like the method signatures. Lets look at class and metaclass with all the important stuff implemented.\n",
    "\n",
    "Note the extra **kwargs - those are the extra keywords arguments you can pass in the class statement.\n",
    "\n",
    "```\n",
    "class Meta(type):\n",
    "    @classmethod\n",
    "    def __prepare__(mcs, name, bases, **kwargs):\n",
    "        print('  Meta.__prepare__(mcs=%s, name=%r, bases=%s, **%s)' % (\n",
    "            mcs, name, bases, kwargs\n",
    "        ))\n",
    "        return {}\n",
    "```\n",
    "\n",
    "As mentioned before, `__prepare__` can return objects that are not dict instances, so you need to make sure your `__new__` handles that.\n",
    "\n",
    "```\n",
    "    def __new__(mcs, name, bases, attrs, **kwargs):\n",
    "         print('  Meta.__new__(mcs=%s, name=%r, bases=%s, attrs=[%s], **%s)' % (\n",
    "             mcs, name, bases, ', '.join(attrs), kwargs\n",
    "         ))\n",
    "         return super().__new__(mcs, name, bases, attrs)\n",
    "```\n",
    "\n",
    "It's uncommon to see `__init__` being implemented in a metaclass because it's not that powerful - the class is already constructed when `__init__` is called. It roughly equates to having a class decorator with the difference that `__init__` would get run when making subclasses, while class decorators are not called for subclasses.\n",
    "\n",
    "```\n",
    "     def __init__(cls, name, bases, attrs, **kwargs):\n",
    "        print('  Meta.__init__(cls=%s, name=%r, bases=%s, attrs=[%s], **%s)' % (\n",
    "        cls, name, bases, ', '.join(attrs), kwargs\n",
    "        ))\n",
    "        return super().__init__(name, bases, attrs)\n",
    "```\n",
    "\n",
    "The `__call__` method will be called when you make instances of Class.\n",
    "\n",
    "```\n",
    "     def __call__(cls, *args, **kwargs):\n",
    "         print('  Meta.__call__(cls=%s, args=%s, kwargs=%s)' % (\n",
    "             cls, args, kwargs\n",
    "         ))\n",
    "         return super().__call__(*args, **kwargs)\n",
    "...\n",
    "```\n",
    "\n",
    "Using Meta, note the extra=1\n"
   ],
   "metadata": {
    "collapsed": false,
    "pycharm": {
     "name": "#%% md\n"
    }
   }
  },
  {
   "cell_type": "code",
   "execution_count": 13,
   "outputs": [],
   "source": [
    "class Meta(type):\n",
    "    @classmethod\n",
    "    def __prepare__(mcs, name, bases, **kwargs):\n",
    "        print('  Meta.__prepare__(mcs=%s, name=%r, bases=%s, **%s)' % (\n",
    "            mcs, name, bases, kwargs\n",
    "        ))\n",
    "        return {}\n",
    "        \n",
    "    def __new__(mcs, name, bases, attrs, **kwargs):\n",
    "        print('  Meta.__new__(mcs=%s, name=%r, bases=%s, attrs=[%s], **%s)' % (\n",
    "            mcs, name, bases, ', '.join(attrs), kwargs\n",
    "        ))\n",
    "        return super().__new__(mcs, name, bases, attrs)\n",
    "     \n",
    "    def __init__(cls, name, bases, attrs, **kwargs):\n",
    "        print('  Meta.__init__(cls=%s, name=%r, bases=%s, attrs=[%s], **%s)' % (\n",
    "            cls, name, bases, ', '.join(attrs), kwargs\n",
    "        ))\n",
    "        super().__init__(name, bases, attrs)\n",
    "      \n",
    "    def __call__(cls, *args, **kwargs):\n",
    "        print('  Meta.__call__(cls=%s, args=%s, kwargs=%s)' % (\n",
    "           cls, args, kwargs\n",
    "        ))\n",
    "        return super().__call__(*args, **kwargs)"
   ],
   "metadata": {
    "collapsed": false,
    "pycharm": {
     "name": "#%%\n",
     "is_executing": false
    }
   }
  },
  {
   "cell_type": "code",
   "execution_count": 14,
   "outputs": [
    {
     "name": "stdout",
     "text": [
      "  Meta.__prepare__(mcs=<class '__main__.Meta'>, name='Class', bases=(), **{'extra': 1})\n  Meta.__new__(mcs=<class '__main__.Meta'>, name='Class', bases=(), attrs=[__module__, __qualname__, __new__, __init__, __str__, __classcell__], **{'extra': 1})\n  Meta.__init__(cls=<class '__main__.Class'>, name='Class', bases=(), attrs=[__module__, __qualname__, __new__, __init__, __str__, __classcell__], **{'extra': 1})\n"
     ],
     "output_type": "stream"
    }
   ],
   "source": [
    "class Class(metaclass=Meta, extra=1):\n",
    "    def __new__(cls, myarg):\n",
    "        print('  Class.__new__(cls=%s, myarg=%s)' % (\n",
    "            cls, myarg\n",
    "        ))\n",
    "        return super().__new__(cls)\n",
    "\n",
    "    def __init__(self, myarg):\n",
    "        print('  Class.__init__(self=%s, myarg=%s)' % (\n",
    "            self, myarg\n",
    "        ))\n",
    "        self.myarg = myarg\n",
    "        super().__init__()\n",
    "\n",
    "    def __str__(self):\n",
    "        return \"<instance of Class; myargs=%s>\" % (\n",
    "            getattr(self, 'myarg', 'MISSING'),\n",
    "        )"
   ],
   "metadata": {
    "collapsed": false,
    "pycharm": {
     "name": "#%%\n",
     "is_executing": false
    }
   }
  },
  {
   "cell_type": "code",
   "execution_count": 15,
   "outputs": [
    {
     "name": "stdout",
     "text": [
      "  Meta.__call__(cls=<class '__main__.Class'>, args=(1,), kwargs={})\n  Class.__new__(cls=<class '__main__.Class'>, myarg=1)\n  Class.__init__(self=<instance of Class; myargs=MISSING>, myarg=1)\n"
     ],
     "output_type": "stream"
    },
    {
     "data": {
      "text/plain": "<__main__.Class at 0x10bb0eac8>"
     },
     "metadata": {},
     "output_type": "execute_result",
     "execution_count": 15
    }
   ],
   "source": [
    "Class(1)\n"
   ],
   "metadata": {
    "collapsed": false,
    "pycharm": {
     "name": "#%%\n",
     "is_executing": false
    }
   }
  }
 ],
 "metadata": {
  "language_info": {
   "codemirror_mode": {
    "name": "ipython",
    "version": 2
   },
   "file_extension": ".py",
   "mimetype": "text/x-python",
   "name": "python",
   "nbconvert_exporter": "python",
   "pygments_lexer": "ipython2",
   "version": "2.7.6"
  },
  "kernelspec": {
   "name": "python3",
   "language": "python",
   "display_name": "Python 3"
  },
  "pycharm": {
   "stem_cell": {
    "cell_type": "raw",
    "source": [],
    "metadata": {
     "collapsed": false
    }
   }
  }
 },
 "nbformat": 4,
 "nbformat_minor": 0
}