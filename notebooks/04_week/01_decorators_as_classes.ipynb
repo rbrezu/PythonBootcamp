{
 "cells": [
  {
   "cell_type": "markdown",
   "source": [
    "### Decorators with arguments\n"
   ],
   "metadata": {
    "collapsed": false,
    "pycharm": {
     "name": "#%% md\n"
    }
   }
  },
  {
   "cell_type": "code",
   "execution_count": 11,
   "outputs": [
    {
     "name": "stdout",
     "text": [
      "new decorator created with Hey lol  and  The SUUFFFFIX!!!\nHey lol test is called with (2, 3, 4) and {} The SUUFFFFIX!!!\n2 3 4\nHey lol test returned 2 The SUUFFFFIX!!!\n"
     ],
     "output_type": "stream"
    },
    {
     "data": {
      "text/plain": "2"
     },
     "metadata": {},
     "output_type": "execute_result",
     "execution_count": 11
    }
   ],
   "source": [
    "def deco_wrapper(prefix=None, suffix=None):\n",
    "    print ('new decorator created with {} and {}'.format(prefix, suffix))\n",
    "    \n",
    "    def deco(fn):\n",
    "        def fn_wrapper(*fnargs, **fnkwargs):\n",
    "            print ('{}{.__name__} is called with {} and {}{}'.format(prefix, fn, fnargs, fnkwargs, suffix))\n",
    "            res = fn(*fnargs, **fnkwargs)\n",
    "            print ('{}{.__name__} returned {}{}'.format(prefix, fn, res, suffix))\n",
    "            \n",
    "            return res\n",
    "            \n",
    "        return fn_wrapper\n",
    "    return deco\n",
    "\n",
    "@deco_wrapper(prefix='asd', suffix='asd')\n",
    "def test(a, b, c):\n",
    "    print ('{} {} {}'.format(a, b, c))\n",
    "    return a\n",
    "\n",
    "test(2, 3, 4)"
   ],
   "metadata": {
    "collapsed": false,
    "pycharm": {
     "name": "#%%\n",
     "is_executing": false
    }
   }
  },
  {
   "cell_type": "markdown",
   "source": [
    "### Decorators as classes"
   ],
   "metadata": {
    "collapsed": false,
    "pycharm": {
     "name": "#%% md\n"
    }
   }
  },
  {
   "cell_type": "code",
   "execution_count": 12,
   "outputs": [
    {
     "name": "stdout",
     "text": [
      "Hey lol test is called with (2, 3, 4) and {} The SUUFFFFIX!!!\n2 3 4\nHey lol test returned 2 The SUUFFFFIX!!!\n"
     ],
     "output_type": "stream"
    },
    {
     "data": {
      "text/plain": "2"
     },
     "metadata": {},
     "output_type": "execute_result",
     "execution_count": 12
    }
   ],
   "source": [
    "class Decorator:\n",
    "    def __init__(self, prefix=None, suffix=None):\n",
    "        self.prefix = prefix\n",
    "        self.suffix = suffix\n",
    "        \n",
    "    def __call__(self, fn):\n",
    "        def fn_wrapper(*fnargs, **fnkwargs):\n",
    "            print ('{}{.__name__} is called with {} and {}{}'.format(self.prefix, fn, fnargs, fnkwargs, self.suffix))\n",
    "            res = fn(*fnargs, **fnkwargs)\n",
    "            print ('{}{.__name__} returned {}{}'.format(self.prefix, fn, res, self.suffix))\n",
    "            \n",
    "            return res\n",
    "            \n",
    "        return fn_wrapper\n",
    "\n",
    "\n",
    "@Decorator(prefix='Hey lol ', suffix=' The SUUFFFFIX!!!')\n",
    "def test(a, b, c):\n",
    "    print ('{} {} {}'.format(a, b, c))\n",
    "    return a\n",
    "\n",
    "test(2, 3, 4)"
   ],
   "metadata": {
    "collapsed": false,
    "pycharm": {
     "name": "#%%\n",
     "is_executing": false
    }
   }
  },
  {
   "cell_type": "markdown",
   "source": [
    "### Class decorator (precursor to meta-classes)"
   ],
   "metadata": {
    "collapsed": false,
    "pycharm": {
     "name": "#%% md\n"
    }
   }
  },
  {
   "cell_type": "code",
   "execution_count": 21,
   "outputs": [
    {
     "name": "stdout",
     "text": [
      "2\n4\n<__main__.Decorator.__call__.<locals>.Wrapped object at 0x1043a57f0>\nTrue\n"
     ],
     "output_type": "stream"
    }
   ],
   "source": [
    "class Decorator(object):\n",
    "    def __init__(self, arg):\n",
    "        self.arg = arg\n",
    "\n",
    "    def __call__(self, cls):\n",
    "        class Wrapped(cls):\n",
    "            operand = self.arg\n",
    "            \n",
    "            def new_method(self, value):\n",
    "                return value * self.operand\n",
    "             \n",
    "        return Wrapped\n",
    "\n",
    "@Decorator(arg=2)\n",
    "class TestClass(object):\n",
    "    def new_method(self, value):\n",
    "        return value * 3\n",
    "    \n",
    "t = TestClass()\n",
    "print (t.operand)\n",
    "print (t.new_method(2))\n",
    "print (t)\n",
    "print (isinstance(t, TestClass))\n",
    "\n",
    "\n"
   ],
   "metadata": {
    "collapsed": false,
    "pycharm": {
     "name": "#%%\n",
     "is_executing": false
    }
   }
  }
 ],
 "metadata": {
  "language_info": {
   "codemirror_mode": {
    "name": "ipython",
    "version": 2
   },
   "file_extension": ".py",
   "mimetype": "text/x-python",
   "name": "python",
   "nbconvert_exporter": "python",
   "pygments_lexer": "ipython2",
   "version": "2.7.6"
  },
  "kernelspec": {
   "name": "python3",
   "language": "python",
   "display_name": "Python 3"
  },
  "pycharm": {
   "stem_cell": {
    "cell_type": "raw",
    "source": [],
    "metadata": {
     "collapsed": false
    }
   }
  }
 },
 "nbformat": 4,
 "nbformat_minor": 0
}