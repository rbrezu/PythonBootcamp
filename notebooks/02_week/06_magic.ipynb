{
 "cells": [
  {
   "cell_type": "markdown",
   "metadata": {
    "collapsed": true,
    "pycharm": {
     "name": "#%% md\n"
    }
   },
   "source": [
    "# Python Special Variables and Methods"
   ]
  },
  {
   "cell_type": "markdown",
   "source": [
    "### `__name__` and `__main__`\n",
    "__name__ defines the namespace that a Python module is running in. When Python is run, it will replace __name__ with it's namespace. If you're running:\n",
    "\n",
    "```shell\n",
    "python park.py\n",
    "```\n",
    "\n",
    "It will replace any instance of __name__ in that file with __main__ since it's running in the __main__ namespace. Any imported modules that Park.py uses, it will replace __name__ with the name of their own module. This is important because __name__ is often used in a module in the lines:\n",
    "\n",
    "```python\n",
    "if __name__ == \"__main__\":\n",
    "```\n",
    "\n",
    "\n",
    "When it sees this, as __name__ is replaced by the string \"__main__\", it will execute the code in that module's namespace. Imported modules often can be run independently as well and as such will have that check too. But as their __name__ is replaced by the name of their module, the code in that module will not be executed automatically. It would only be executed if that module was run directly. You can compare the different way __name__ is substitued by printing out the variable:\n",
    "\n"
   ],
   "metadata": {
    "collapsed": false,
    "pycharm": {
     "name": "#%% md\n"
    }
   }
  },
  {
   "cell_type": "code",
   "source": [
    "%%writefile park.py\n",
    "import tree\n",
    "\n",
    "def main():\n",
    "        print(__name__)\n",
    "        print(tree.__name__)\n",
    "\n",
    "if __name__ == \"__main__\":\n",
    "        main()"
   ],
   "metadata": {
    "collapsed": false,
    "pycharm": {
     "name": "#%%\n",
     "is_executing": false
    }
   },
   "execution_count": 2,
   "outputs": [
    {
     "name": "stdout",
     "text": [
      "Writing park.py\n"
     ],
     "output_type": "stream"
    }
   ]
  },
  {
   "cell_type": "code",
   "execution_count": 1,
   "outputs": [
    {
     "name": "stdout",
     "text": [
      "Writing tree.py\n"
     ],
     "output_type": "stream"
    }
   ],
   "source": [
    "%%writefile tree.py\n",
    "def main():\n",
    "        print(__name__)\n",
    "\n",
    "if __name__ == \"__main__\":\n",
    "        main()"
   ],
   "metadata": {
    "collapsed": false,
    "pycharm": {
     "name": "#%%\n",
     "is_executing": false
    }
   }
  },
  {
   "cell_type": "code",
   "execution_count": 3,
   "outputs": [
    {
     "name": "stdout",
     "text": [
      "__main__\r\ntree\r\n"
     ],
     "output_type": "stream"
    }
   ],
   "source": [
    "!python park.py"
   ],
   "metadata": {
    "collapsed": false,
    "pycharm": {
     "name": "#%%\n",
     "is_executing": false
    }
   }
  },
  {
   "cell_type": "code",
   "execution_count": 4,
   "outputs": [
    {
     "name": "stdout",
     "text": [
      "__main__\r\n"
     ],
     "output_type": "stream"
    }
   ],
   "source": [
    "!python tree.py"
   ],
   "metadata": {
    "collapsed": false,
    "pycharm": {
     "name": "#%%\n",
     "is_executing": false
    }
   }
  },
  {
   "cell_type": "markdown",
   "source": [
    "### `__doc__`\n",
    "__doc__ will print out the docstring that appears in a class or method. A docstring is a string comment and is the first line after the class or method header:"
   ],
   "metadata": {
    "collapsed": false,
    "pycharm": {
     "name": "#%% md\n"
    }
   }
  },
  {
   "cell_type": "code",
   "execution_count": 5,
   "outputs": [
    {
     "name": "stdout",
     "text": [
      "This is a test\nThis is a test inside of a function\n"
     ],
     "output_type": "stream"
    }
   ],
   "source": [
    "class MyClass:\n",
    "\t\"This is a test\"\n",
    "\tdef __init__(self):\n",
    "\t\tpass\n",
    "\n",
    "print(MyClass.__doc__)\n",
    "\n",
    "def myfunction():\n",
    "        \"This is a test inside of a function\"\n",
    "        pass\n",
    "\n",
    "print(myfunction.__doc__)"
   ],
   "metadata": {
    "collapsed": false,
    "pycharm": {
     "name": "#%%\n",
     "is_executing": false
    }
   }
  },
  {
   "cell_type": "markdown",
   "source": [
    "### The `__del__` method\n",
    "The `__del__` method is a special method of a class.\n",
    "\n",
    "It is also called the destructor method and it is called (invoked) when the instance (object) of the class is about to get destroyed.\n",
    "\n",
    "We use the `__del__` method to clean up resources like closing a file.\n",
    "\n",
    "In the following Python program we are creating the `__del__` method inside the Awesome class.\n"
   ],
   "metadata": {
    "collapsed": false
   }
  },
  {
   "cell_type": "code",
   "execution_count": 89,
   "outputs": [
    {
     "name": "stdout",
     "text": [
      "<__main__.Awesome object at 0x106f837b8>\nHello World!\nbefore reassignment 0x106f837b8\nHello from the __del__ method.\nafter reassignment 0x1047860c0\n"
     ],
     "output_type": "stream"
    }
   ],
   "source": [
    "# class\n",
    "class Awesome:\n",
    "\n",
    "    # some method\n",
    "    def greetings(self):\n",
    "        print(\"Hello World!\")\n",
    "\n",
    "    # the del method\n",
    "    def __del__(self):\n",
    "        print(\"Hello from the __del__ method.\")\n",
    "\n",
    "# object of the class\n",
    "# obj = Awesome()\n",
    "\n",
    "def create_obj():\n",
    "    a = Awesome()\n",
    "    print (a)\n",
    "    a.greetings()\n",
    "    \n",
    "    print ('before reassignment {}'.format(hex(id(a))))\n",
    "    a = 2\n",
    "    print ('after reassignment {}'.format(hex(id(a))))\n",
    "    # return a\n",
    "\n",
    "create_obj()\n",
    "# calling class method\n",
    "# obj.greetings()"
   ],
   "metadata": {
    "collapsed": false,
    "pycharm": {
     "name": "#%%\n",
     "is_executing": false
    }
   }
  },
  {
   "cell_type": "markdown",
   "source": [
    "### `__getattr__` and `getattr`\n",
    "__getattr__ is a method that you can write into your classes that specifies how Python reacts when it can't find a called variable or method. __getattr__ takes the name of what it's looking for as a parameter."
   ],
   "metadata": {
    "collapsed": false,
    "pycharm": {
     "name": "#%% md\n"
    }
   }
  },
  {
   "cell_type": "code",
   "execution_count": 8,
   "outputs": [
    {
     "name": "stdout",
     "text": [
      "1 7\nNot Found\n"
     ],
     "output_type": "stream"
    },
    {
     "traceback": [
      "\u001b[0;31m---------------------------------------------------------------------------\u001b[0m",
      "\u001b[0;31mKeyError\u001b[0m                                  Traceback (most recent call last)",
      "\u001b[0;32m<ipython-input-8-65aefca95843>\u001b[0m in \u001b[0;36m<module>\u001b[0;34m()\u001b[0m\n\u001b[1;32m     22\u001b[0m \u001b[0;34m\u001b[0m\u001b[0m\n\u001b[1;32m     23\u001b[0m \u001b[0mprint\u001b[0m \u001b[0;34m(\u001b[0m\u001b[0mx\u001b[0m\u001b[0;34m,\u001b[0m \u001b[0my\u001b[0m\u001b[0;34m)\u001b[0m\u001b[0;34m\u001b[0m\u001b[0;34m\u001b[0m\u001b[0m\n\u001b[0;32m---> 24\u001b[0;31m \u001b[0ma\u001b[0m\u001b[0;34m.\u001b[0m\u001b[0merror\u001b[0m\u001b[0;34m\u001b[0m\u001b[0;34m\u001b[0m\u001b[0m\n\u001b[0m",
      "\u001b[0;32m<ipython-input-8-65aefca95843>\u001b[0m in \u001b[0;36m__getattr__\u001b[0;34m(self, name)\u001b[0m\n\u001b[1;32m     13\u001b[0m         \u001b[0;32mif\u001b[0m \u001b[0mname\u001b[0m \u001b[0;34m==\u001b[0m \u001b[0;34m'error'\u001b[0m\u001b[0;34m:\u001b[0m\u001b[0;34m\u001b[0m\u001b[0;34m\u001b[0m\u001b[0m\n\u001b[1;32m     14\u001b[0m             \u001b[0mprint\u001b[0m\u001b[0;34m(\u001b[0m\u001b[0;34m\"Not Found\"\u001b[0m\u001b[0;34m)\u001b[0m\u001b[0;34m\u001b[0m\u001b[0;34m\u001b[0m\u001b[0m\n\u001b[0;32m---> 15\u001b[0;31m             \u001b[0;32mraise\u001b[0m \u001b[0mKeyError\u001b[0m\u001b[0;34m\u001b[0m\u001b[0;34m\u001b[0m\u001b[0m\n\u001b[0m\u001b[1;32m     16\u001b[0m         \u001b[0;32melse\u001b[0m\u001b[0;34m:\u001b[0m\u001b[0;34m\u001b[0m\u001b[0;34m\u001b[0m\u001b[0m\n\u001b[1;32m     17\u001b[0m             \u001b[0;32mreturn\u001b[0m \u001b[0mATest\u001b[0m\u001b[0;34m.\u001b[0m\u001b[0mclass_wide_var\u001b[0m\u001b[0;34m\u001b[0m\u001b[0;34m\u001b[0m\u001b[0m\n",
      "\u001b[0;31mKeyError\u001b[0m: "
     ],
     "ename": "KeyError",
     "evalue": "",
     "output_type": "error"
    }
   ],
   "source": [
    "class ATest:\n",
    "    class_wide_var = 0\n",
    "    def __init__(self):\n",
    "        self.x = 5\n",
    "        self.y = 7\n",
    "        self.z = 10\n",
    "        ATest.class_wide_var += 1\n",
    "     \n",
    "    def add(self, num1, num2):\n",
    "        return num1 + num2\n",
    "    \n",
    "    def __getattr__(self, name):\n",
    "        if name == 'error':\n",
    "            print(\"Not Found\")\n",
    "            raise KeyError\n",
    "        else:\n",
    "            return ATest.class_wide_var\n",
    "\n",
    "a = ATest()\n",
    "x = a.novar\n",
    "y = getattr(a, 'y'  )\n",
    "\n",
    "print (x, y)\n",
    "a.error"
   ],
   "metadata": {
    "collapsed": false,
    "pycharm": {
     "name": "#%%\n",
     "is_executing": false
    }
   }
  },
  {
   "cell_type": "markdown",
   "source": [
    "### `__setattr__` and `setattr`\n",
    "`__setattr__` and setattr work in the same way as their corresponding \"get\" methods above:"
   ],
   "metadata": {
    "collapsed": false,
    "pycharm": {
     "name": "#%% md\n"
    }
   }
  },
  {
   "cell_type": "code",
   "execution_count": 23,
   "outputs": [
    {
     "name": "stdout",
     "text": [
      "John Doe\nhi bish\nJohn Doe\nJohnny Doe\n"
     ],
     "output_type": "stream"
    }
   ],
   "source": [
    "class Person:\n",
    "    def __init__(self, name, surname):\n",
    "        self.name = name\n",
    "        self.surname = surname\n",
    "        self.full_name = self.name + ' ' + self.surname\n",
    "        \n",
    "    def __setattr__(self, key, value):\n",
    "        super(Person, self).__setattr__(key, value)\n",
    "        if key == 'name' or key == 'surname':\n",
    "            self.full_name = getattr(self, 'name', '') + ' ' + getattr(self, 'surname', '')  \n",
    "    \n",
    "    def hi_bish(self):\n",
    "        return 'hi bish'\n",
    "\n",
    "import types\n",
    "\n",
    "p = Person(name='John', surname='Doe')\n",
    "print (p.full_name)\n",
    "print (p.hi_bish())\n",
    "\n",
    "def x(self):\n",
    "    return self.full_name\n",
    "\n",
    "p.hi_bish = types.MethodType(x, p)\n",
    "print (p.hi_bish())\n",
    "\n",
    "p.name = 'Johnny'\n",
    "print (p.full_name)\n"
   ],
   "metadata": {
    "collapsed": false,
    "pycharm": {
     "name": "#%%\n",
     "is_executing": false
    }
   }
  },
  {
   "cell_type": "markdown",
   "source": [
    "### More info about magic methods\n",
    "\n",
    "[Full magic method guide](https://rszalski.github.io/magicmethods/)  \n",
    "[Another one](https://dbader.org/blog/python-dunder-methods)"
   ],
   "metadata": {
    "collapsed": false,
    "pycharm": {
     "name": "#%% md\n"
    }
   }
  }
 ],
 "metadata": {
  "language_info": {
   "codemirror_mode": {
    "name": "ipython",
    "version": 2
   },
   "file_extension": ".py",
   "mimetype": "text/x-python",
   "name": "python",
   "nbconvert_exporter": "python",
   "pygments_lexer": "ipython2",
   "version": "2.7.6"
  },
  "kernelspec": {
   "name": "python3",
   "language": "python",
   "display_name": "Python 3"
  },
  "pycharm": {
   "stem_cell": {
    "cell_type": "raw",
    "source": [],
    "metadata": {
     "collapsed": false
    }
   }
  }
 },
 "nbformat": 4,
 "nbformat_minor": 0
}